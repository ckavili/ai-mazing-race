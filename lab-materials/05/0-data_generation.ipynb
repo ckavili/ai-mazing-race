{
 "cells": [
  {
   "cell_type": "markdown",
   "id": "53e8d547-b0d9-479f-84e7-20ea62df2f43",
   "metadata": {},
   "source": [
    "## Synthetic Data Generation for the Use Case 🍭"
   ]
  },
  {
   "cell_type": "code",
   "execution_count": null,
   "id": "7ba77997-0e37-4e96-aa6d-3e7848e61beb",
   "metadata": {},
   "outputs": [],
   "source": [
    "import pandas as pd\n",
    "import numpy as np\n",
    "import random\n"
   ]
  },
  {
   "cell_type": "code",
   "execution_count": null,
   "id": "096fbb32-0361-46c4-9fce-83d21eff7233",
   "metadata": {},
   "outputs": [],
   "source": [
    "# Define regions with varying consumption patterns (simplified)\n",
    "regions = {\n",
    "    \"Marmara\": {\"base_consumption\": 12000, \"holiday_multiplier\": 1.8},  # High consumption, significant holiday increase\n",
    "    \"Aegean\": {\"base_consumption\": 8000, \"holiday_multiplier\": 1.5},   # Moderate consumption, moderate holiday increase\n",
    "    \"Mediterranean\": {\"base_consumption\": 10000, \"holiday_multiplier\": 1.6},  # Moderate consumption, moderate holiday increase\n",
    "    \"Black Sea\": {\"base_consumption\": 7000, \"holiday_multiplier\": 1.4},   # Lower consumption, lower holiday increase\n",
    "    \"Central Anatolia\": {\"base_consumption\": 5000, \"holiday_multiplier\": 1.3},  # Lower consumption, lower holiday increase\n",
    "    \"Eastern Anatolia\": {\"base_consumption\": 4000, \"holiday_multiplier\": 1.2},  # Lowest consumption, lower holiday increase\n",
    "    \"Southeast Anatolia\": {\"base_consumption\": 6000, \"holiday_multiplier\": 1.5}   # Moderate consumption, moderate holiday increase\n",
    "}\n"
   ]
  },
  {
   "cell_type": "code",
   "execution_count": null,
   "id": "08bfcb63-f2eb-4f12-b918-ff7dc0553c67",
   "metadata": {},
   "outputs": [],
   "source": [
    "# Function to generate synthetic data with regional variations\n",
    "def generate_synthetic_data(num_rows=1000, years=range(2014, 2024)):\n",
    "    data = []\n",
    "\n",
    "    for _ in range(num_rows):\n",
    "        # Randomly select year and region\n",
    "        year = random.choice(years)\n",
    "        region = random.choice(list(regions.keys()))\n",
    "\n",
    "        # Generate features\n",
    "        holiday_promotion = random.choice([0, 1])  # 1 means promotion, 0 means no promotion\n",
    "        population = random.randint(1000000, 15000000)  # Random population size\n",
    "        income_level = random.randint(1500, 25000)  # Random income level (in Turkish Lira)\n",
    "        bakery_count = random.randint(100, 5000)  # Random number of bakeries\n",
    "\n",
    "        # Calculate base consumption for the region\n",
    "        base_consumption = regions[region][\"base_consumption\"]\n",
    "\n",
    "        # Adjust consumption based on holiday season and promotions\n",
    "        if holiday_promotion:\n",
    "            base_consumption *= 1.1  # 10% increase during promotions\n",
    "        \n",
    "        # Determine holiday season (simplified)\n",
    "        if year % 2 == 0:  # Alternate years for stronger holiday impact\n",
    "            holiday_season = 1\n",
    "        else:\n",
    "            holiday_season = 0\n",
    "\n",
    "        # Calculate consumption with regional and holiday factors\n",
    "        consumption = base_consumption * regions[region][\"holiday_multiplier\"] ** holiday_season \n",
    "\n",
    "        # Add random noise to simulate real-world fluctuations\n",
    "        consumption += np.random.normal(loc=0, scale=consumption * 0.1)  # 10% standard deviation\n",
    "\n",
    "        # Append the generated row\n",
    "        data.append([region, holiday_promotion, population, income_level, bakery_count, consumption, year, holiday_season])\n",
    "\n",
    "    # Create DataFrame\n",
    "    df = pd.DataFrame(data, columns=[\"Region\", \"Holiday_Promotion\", \"Population\", \"Income_Level\", \"Bakery_Count\", \"Demand\", \"Year\", \"Holiday_Season\"])\n",
    "\n",
    "    return df"
   ]
  },
  {
   "cell_type": "code",
   "execution_count": null,
   "id": "6a2b246a",
   "metadata": {},
   "outputs": [],
   "source": [
    "# Generate and save the data\n",
    "df = generate_synthetic_data()\n",
    "df.to_csv(\"synthetic_baklava_data_turkey.csv\", index=False)\n",
    "print(df.head())"
   ]
  }
 ],
 "metadata": {
  "kernelspec": {
   "display_name": "Python 3.11",
   "language": "python",
   "name": "python3"
  },
  "language_info": {
   "codemirror_mode": {
    "name": "ipython",
    "version": 3
   },
   "file_extension": ".py",
   "mimetype": "text/x-python",
   "name": "python",
   "nbconvert_exporter": "python",
   "pygments_lexer": "ipython3",
   "version": "3.11.7"
  }
 },
 "nbformat": 4,
 "nbformat_minor": 5
}
