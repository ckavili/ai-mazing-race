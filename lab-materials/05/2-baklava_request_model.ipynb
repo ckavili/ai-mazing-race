{
 "cells": [
  {
   "cell_type": "markdown",
   "id": "2c004acc-13cd-4917-8480-592c7c2d623b",
   "metadata": {},
   "source": [
    "## 🥁 Setup\n",
    "\n",
    "Change the following variable settings to match your deployed model's *Inference endpoint*. for example: \n",
    "\n",
    "```\n",
    "deployed_model_name = \"baklava\"\n",
    "infer_endpoint = \"https://baklava-yyyyyy.apps.cluster-p9k5m.p9k5m.sandboxxxx.opentlc.com\"\n",
    "```"
   ]
  },
  {
   "cell_type": "code",
   "execution_count": null,
   "id": "4fe39385",
   "metadata": {
    "tags": []
   },
   "outputs": [],
   "source": [
    "import pandas as pd\n",
    "import matplotlib.pyplot as plt\n",
    "import numpy as np\n",
    "import requests\n",
    "import joblib"
   ]
  },
  {
   "cell_type": "code",
   "execution_count": null,
   "id": "0de65d02-84a6-4cff-882e-551cdd42b486",
   "metadata": {
    "tags": []
   },
   "outputs": [],
   "source": [
    "deployed_model_name = \"baklava\"\n",
    "infer_endpoint = \"<YOUR_INFERENCE_ENDPOINT>\"\n",
    "infer_url = f\"{infer_endpoint}/v2/models/{deployed_model_name}/infer\""
   ]
  },
  {
   "cell_type": "code",
   "execution_count": null,
   "id": "91574b73",
   "metadata": {},
   "outputs": [],
   "source": [
    "# the version you chose to test\n",
    "version = \"<YOUR_VERSION>\""
   ]
  },
  {
   "cell_type": "code",
   "execution_count": null,
   "id": "53165e60",
   "metadata": {},
   "outputs": [],
   "source": [
    "# Load the scaler (assuming it's saved as scaler.pkl)\n",
    "scaler = joblib.load(f\"models/{version}/baklava/1/artifacts/scaler.pkl\")\n",
    "\n",
    "# Define your data \n",
    "data = {\n",
    "  \"Holiday_Promotion\": 1, \n",
    "  \"Population_per_Bakery\": 10000, \n",
    "  \"Income_Level\": 20000, \n",
    "  \"Holiday_Season\": 1,\n",
    "  \"Region_Aegean\": 0,  \n",
    "  \"Region_Black Sea\": 1,\n",
    "  \"Region_Central Anatolia\": 0,\n",
    "  \"Region_Eastern Anatolia\": 0,\n",
    "  \"Region_Marmara\": 0,\n",
    "  \"Region_Mediterranean\": 0,\n",
    "  \"Region_Southeast Anatolia\": 0\n",
    "}\n",
    "\n",
    "# Convert data to a pandas DataFrame (assuming your features are column names)\n",
    "df_input = pd.DataFrame([data])\n",
    "\n",
    "# Reorder columns to match the order used during training (if necessary)\n",
    "df_input = df_input[scaler.feature_names_in_] \n",
    "\n",
    "# Scale the data\n",
    "scaled_data = scaler.transform(df_input).astype(np.float32)\n",
    "scaled_data = scaled_data.reshape(1, -1)  \n",
    "\n",
    "# Define the request data\n",
    "json_data = {\n",
    "  \"inputs\": [\n",
    "    {\n",
    "      \"name\": \"input\",\n",
    "      \"shape\": [1, len(scaled_data[0])],  \n",
    "      \"datatype\": \"FP32\",\n",
    "      \"data\": scaled_data.tolist()[0] \n",
    "    }\n",
    "  ]\n",
    "}\n",
    "\n",
    "# Send the request\n",
    "response = requests.post(infer_url, json=json_data, verify=True)\n",
    "\n",
    "# Process the response (assuming similar to the example)\n",
    "if response.status_code == 200:\n",
    "  response_dict = response.json()\n",
    "  predicted_demand = response_dict['outputs'][0]['data']\n",
    "  print(f\"Predicted Baklava Consumption: {predicted_demand}\")\n",
    "else:\n",
    "  print(f\"Error: {response.status_code}\")"
   ]
  }
 ],
 "metadata": {
  "kernelspec": {
   "display_name": "Python 3.11",
   "language": "python",
   "name": "python3"
  },
  "language_info": {
   "codemirror_mode": {
    "name": "ipython",
    "version": 3
   },
   "file_extension": ".py",
   "mimetype": "text/x-python",
   "name": "python",
   "nbconvert_exporter": "python",
   "pygments_lexer": "ipython3",
   "version": "3.11.7"
  }
 },
 "nbformat": 4,
 "nbformat_minor": 5
}
