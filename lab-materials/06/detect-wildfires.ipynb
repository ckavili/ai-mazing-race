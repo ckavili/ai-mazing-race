{
 "cells": [
  {
   "cell_type": "code",
   "execution_count": null,
   "id": "126cbb6f-3337-4df7-af37-456288125760",
   "metadata": {},
   "outputs": [],
   "source": []
  },
  {
   "cell_type": "code",
   "execution_count": null,
   "id": "d38c9547-dd92-4125-918d-9676fbb6c8fc",
   "metadata": {},
   "outputs": [],
   "source": []
  },
  {
   "cell_type": "code",
   "execution_count": null,
   "id": "eef3dc11-1b10-45d0-b51e-066e5c05d0c6",
   "metadata": {
    "tags": []
   },
   "outputs": [],
   "source": [
    "!pip install transformers==4.46.3"
   ]
  },
  {
   "cell_type": "code",
   "execution_count": null,
   "id": "407cc7ef-1ccf-4b0e-8a8c-19a687b79dea",
   "metadata": {
    "tags": []
   },
   "outputs": [],
   "source": [
    "# Use a pipeline as a high-level helper\n",
    "from transformers import pipeline\n",
    "\n",
    "pipe = pipeline(\"image-classification\", model=\"arnaucas/wildfire-classifier\")"
   ]
  },
  {
   "cell_type": "code",
   "execution_count": null,
   "id": "0656a5ae-014a-4ad3-af2b-e0b2ebfcb4b9",
   "metadata": {
    "tags": []
   },
   "outputs": [],
   "source": [
    "# # Load model directly\n",
    "# from transformers import AutoImageProcessor, AutoModelForImageClassification\n",
    "\n",
    "# processor = AutoImageProcessor.from_pretrained(\"arnaucas/wildfire-classifier\")\n",
    "# model = AutoModelForImageClassification.from_pretrained(\"arnaucas/wildfire-classifier\")"
   ]
  },
  {
   "cell_type": "code",
   "execution_count": null,
   "id": "d6e5d3b2-09c4-4176-95e7-2478eddc3131",
   "metadata": {
    "tags": []
   },
   "outputs": [],
   "source": [
    "from IPython.display import Image, display"
   ]
  },
  {
   "cell_type": "code",
   "execution_count": null,
   "id": "cef5a197-4389-449b-b6d8-c39a516656f6",
   "metadata": {
    "tags": []
   },
   "outputs": [],
   "source": [
    "image = \"./img/01.jpg\"\n",
    "display(Image(filename=image))\n",
    "pipe(image)"
   ]
  },
  {
   "cell_type": "code",
   "execution_count": null,
   "id": "c23b2f3a-b40a-443e-95e0-9bf51421dae2",
   "metadata": {
    "tags": []
   },
   "outputs": [],
   "source": [
    "image = \"./img/02.jpg\"\n",
    "display(Image(filename=image, width=1000))\n",
    "pipe(image)"
   ]
  },
  {
   "cell_type": "code",
   "execution_count": null,
   "id": "0b93fb9c-380b-49e3-8f76-7ace00f55c71",
   "metadata": {
    "tags": []
   },
   "outputs": [],
   "source": [
    "! ls -al "
   ]
  },
  {
   "cell_type": "code",
   "execution_count": null,
   "id": "89492472-593a-4367-bdce-d3ec423f3eed",
   "metadata": {
    "tags": []
   },
   "outputs": [],
   "source": [
    "# using a different model"
   ]
  },
  {
   "cell_type": "code",
   "execution_count": null,
   "id": "b44593a5-fe4f-4186-849c-13227c91823f",
   "metadata": {
    "tags": []
   },
   "outputs": [],
   "source": [
    "# Use a pipeline as a high-level helper\n",
    "from transformers import pipeline\n",
    "\n",
    "pipe2 = pipeline(\"image-classification\", model=\"dima806/wildfire_types_image_detection\")"
   ]
  },
  {
   "cell_type": "code",
   "execution_count": null,
   "id": "ad391430-1eff-4d7e-ab61-717774238e85",
   "metadata": {
    "tags": []
   },
   "outputs": [],
   "source": [
    "image = \"./img/01.jpg\"\n",
    "display(Image(filename=image, width=1000))\n",
    "pipe2(image)"
   ]
  },
  {
   "cell_type": "code",
   "execution_count": null,
   "id": "43f6bb27-6db5-4709-bc11-63a39793812e",
   "metadata": {},
   "outputs": [],
   "source": []
  }
 ],
 "metadata": {
  "kernelspec": {
   "display_name": "Python 3.9",
   "language": "python",
   "name": "python3"
  },
  "language_info": {
   "codemirror_mode": {
    "name": "ipython",
    "version": 3
   },
   "file_extension": ".py",
   "mimetype": "text/x-python",
   "name": "python",
   "nbconvert_exporter": "python",
   "pygments_lexer": "ipython3",
   "version": "3.9.18"
  }
 },
 "nbformat": 4,
 "nbformat_minor": 5
}
