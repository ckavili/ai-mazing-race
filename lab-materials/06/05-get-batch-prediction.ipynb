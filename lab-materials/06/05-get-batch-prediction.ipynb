{
 "cells": [
  {
   "cell_type": "code",
   "execution_count": null,
   "id": "df553031-6a04-476c-8d2f-5982dec49f15",
   "metadata": {
    "tags": []
   },
   "outputs": [],
   "source": [
    "!pip install transformers==4.46.3\n",
    "from IPython.display import Image, display\n",
    "import time"
   ]
  },
  {
   "cell_type": "code",
   "execution_count": null,
   "id": "4819091d-b178-491d-8727-41cf00004976",
   "metadata": {
    "tags": []
   },
   "outputs": [],
   "source": [
    "from transformers import pipeline\n",
    "pipe = pipeline(\"image-classification\", model=\"rh-ai-bu/wildfire01\")"
   ]
  },
  {
   "cell_type": "code",
   "execution_count": null,
   "id": "d38c9547-dd92-4125-918d-9676fbb6c8fc",
   "metadata": {
    "tags": []
   },
   "outputs": [],
   "source": [
    "# image = \"pic2.jpg\"\n",
    "# Import the function from the script\n",
    "from get_random_image import get_random_image\n",
    "\n",
    "# Call the function\n",
    "image = get_random_image()\n",
    "\n",
    "# Print the selected image path\n",
    "print(image)"
   ]
  },
  {
   "cell_type": "code",
   "execution_count": null,
   "id": "647d081a-e043-4fae-842a-cdaf789f059e",
   "metadata": {
    "tags": []
   },
   "outputs": [],
   "source": [
    "\n",
    "start_time = time.time()  # Record the start time\n",
    "result = pipe(image)  # Run the function\n",
    "end_time = time.time()  # Record the end time\n",
    "\n",
    "\n",
    "# Calculate and print the response time\n",
    "response_time = end_time - start_time\n",
    "print(f\"Response time: {response_time:.6f} seconds\")\n",
    "result"
   ]
  },
  {
   "cell_type": "code",
   "execution_count": null,
   "id": "691f641f-b054-413e-aad5-ae10606e95c8",
   "metadata": {
    "tags": []
   },
   "outputs": [],
   "source": [
    "display(Image(filename=image, width=1000))"
   ]
  },
  {
   "cell_type": "code",
   "execution_count": null,
   "id": "ff68c738-fb63-4eac-8296-ca5e3c995115",
   "metadata": {},
   "outputs": [],
   "source": []
  }
 ],
 "metadata": {
  "kernelspec": {
   "display_name": "Python 3.9",
   "language": "python",
   "name": "python3"
  },
  "language_info": {
   "codemirror_mode": {
    "name": "ipython",
    "version": 3
   },
   "file_extension": ".py",
   "mimetype": "text/x-python",
   "name": "python",
   "nbconvert_exporter": "python",
   "pygments_lexer": "ipython3",
   "version": "3.9.18"
  }
 },
 "nbformat": 4,
 "nbformat_minor": 5
}
