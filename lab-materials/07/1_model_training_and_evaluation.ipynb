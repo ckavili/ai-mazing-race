{
 "cells": [
  {
   "attachments": {
    "400baadc-2d38-42e0-a547-1ccfc0246459.png": {
     "image/png": "[encoded data removed]"
    },
    "6419f08b-b1f0-4dfc-ab60-a5579b21330d.png": {
     "image/png": "[encoded data removed]"
    }
   },
   "cell_type": "markdown",
   "id": "8eaab0f3-88d0-43fe-b771-a167ecd85cdb",
   "metadata": {},
   "source": [
    "# ![image.png](attachment:6419f08b-b1f0-4dfc-ab60-a5579b21330d.png) Welcome to the Sweden challenge ![image.png](attachment:400baadc-2d38-42e0-a547-1ccfc0246459.png)"
   ]
  },
  {
   "cell_type": "markdown",
   "id": "976c49ed-db46-47b9-88c9-ef6403b9b3d3",
   "metadata": {},
   "source": [
    "In this challenge we will try to save Swedens economy by analyzing and improving LUND's pricing model.  \n",
    "To do that, let's start by taking a look at the dataset."
   ]
  },
  {
   "cell_type": "code",
   "execution_count": null,
   "id": "bd543575-b467-483c-ab90-25cb040907be",
   "metadata": {},
   "outputs": [],
   "source": [
    "!pip -q install \"numpy==1.26.4\" \"tensorflow==2.17.0\""
   ]
  },
  {
   "cell_type": "code",
   "execution_count": null,
   "id": "2546d440-b805-49fa-a94a-8b436a187ba2",
   "metadata": {},
   "outputs": [],
   "source": [
    "import pandas as pd\n",
    "\n",
    "df = pd.read_csv(\"data/clean_LUND_dataset.csv\")\n",
    "df.head()"
   ]
  },
  {
   "cell_type": "markdown",
   "id": "af3c4aa7-e392-400a-9b62-0259143eaa46",
   "metadata": {},
   "source": [
    "### These are the features we have available in the dataset\n",
    "**name** - (String) The name of the furniture.  \n",
    "**category** - (String) What type of furniture it is. This will be converted to multiple columns with 1 or 0 if it's that category or not (to make it easy for the AI to read).  \n",
    "**price** - (Float) The current price of the product.  \n",
    "**old_price** - (Float) A previous price of the product, same as the current price in many cases.  \n",
    "**sellable_online** - (Bool) If the item is sellable online, this will be True.  \n",
    "**other_colors** - (Bool) If the item has other color variants, this will be True.  \n",
    "**width** - (Float) The width of the item, if applicable.  \n",
    "**depth** - (Float) The depth of the item, if applicable.  \n",
    "**height** - (Float) The height of the item, if applicable.  \n",
    "**discounted** - (Int) Takes 1 if the item is discounted, 0 otherwise.  \n",
    "**width_d** - (Int) Takes 1 if it had a weight or 0 if it was NaN and was assigned a value through interpolation.  \n",
    "**height_d** -  (Int) Takes 1 if it had a height or 0 if it was NaN and was assigned a value through interpolation.  \n",
    "**depth_d** -  (Int) Takes 1 if it had a depth or 0 if it was NaN and was assigned a value through interpolation.  \n",
    "**discount_amount** - (Float) How much to discount the item with.  \n",
    "**size** - (Float) The total size of the item, 1 in case none of the shapes were given.  "
   ]
  },
  {
   "cell_type": "markdown",
   "id": "e3b88181-b5b8-4c5f-b6d2-b91b5bd5fa7e",
   "metadata": {},
   "source": [
    "We see a good mount of features (columns) in the dataset with varying values.  \n",
    "The first thing we need to do is to select which of these features will be used to train our model.  "
   ]
  },
  {
   "cell_type": "markdown",
   "id": "68922e46-b854-4e12-abf4-aca8199698c7",
   "metadata": {},
   "source": [
    "## Time to pick your features!\n",
    "Choose the features you want to include in your training.  \n",
    "We need to choose input features as well as an output feature (we can't use Category as output).  "
   ]
  },
  {
   "cell_type": "markdown",
   "id": "43211b5b-830b-41ac-b500-ae04aec49137",
   "metadata": {},
   "source": [
    "Don't forget to set your model name to something interesting!"
   ]
  },
  {
   "cell_type": "code",
   "execution_count": 2,
   "id": "0c7274ad-e56c-40c1-96da-3734f88e8db0",
   "metadata": {},
   "outputs": [],
   "source": [
    "MODEL_NAME = \"new_model\"\n",
    "\n",
    "# 👇 Edit these values\n",
    "INPUT_FEATURES = [\n",
    "    \"category\",\n",
    "    \"sellable_online\",\n",
    "    \"other_colors\",\n",
    "    \"width\",\n",
    "    \"height\",\n",
    "    \"depth\",\n",
    "    \"width_d\",\n",
    "    \"height_d\",\n",
    "    \"depth_d\",\n",
    "    \"discounted\",\n",
    "    \"discount_amount\",\n",
    "    \"size\"\n",
    "]\n",
    "PREDICT_TARGET = \"price\""
   ]
  },
  {
   "cell_type": "markdown",
   "id": "8cdf5304-03e8-47ab-816c-aefce0101f1e",
   "metadata": {},
   "source": [
    "The last thing we need to do is select how our training/testing data split is going to look like."
   ]
  },
  {
   "cell_type": "code",
   "execution_count": 3,
   "id": "a491454f-5183-4915-8249-98dc31673707",
   "metadata": {},
   "outputs": [],
   "source": [
    "def split_function(df):\n",
    "    from sklearn.model_selection import train_test_split\n",
    "    return train_test_split(df.drop(PREDICT_TARGET, axis=1), df[PREDICT_TARGET], shuffle=True, test_size=0.3, random_state=42) # 👈 You can also try edting this"
   ]
  },
  {
   "cell_type": "markdown",
   "id": "ba7d6236-6407-4f04-8d1b-75422b8e9063",
   "metadata": {},
   "source": [
    "## Let's train our model!\n",
    "Since this challenge is about looking at features and data, we don't worry about how exactly the model looks like, so we will just run a train_model function and be happy 🤷‍♀️"
   ]
  },
  {
   "cell_type": "code",
   "execution_count": null,
   "id": "47d613e8-b140-4a53-8485-8cf82d455308",
   "metadata": {},
   "outputs": [],
   "source": [
    "from support_functions.model_training import train_model\n",
    "test = train_model(df, INPUT_FEATURES, PREDICT_TARGET, split_function, MODEL_NAME)"
   ]
  },
  {
   "cell_type": "markdown",
   "id": "0c08014a-d6d2-4978-9fc4-a20b647db78b",
   "metadata": {},
   "source": [
    "Great!  \n",
    "We now have a model and some artifacts. They are saved in the folder with the same name as you gave variable **MODEL_NAME** if you want to take a look."
   ]
  },
  {
   "cell_type": "markdown",
   "id": "b071edb4",
   "metadata": {},
   "source": [
    "# Evaluation"
   ]
  },
  {
   "cell_type": "markdown",
   "id": "62e7efbc-76ec-46d9-b200-37286bf9f25b",
   "metadata": {},
   "source": [
    "Now let's do the fun part and *Evaluate* the model.  \n",
    "We will do a few evaluations. The first one will show us these interesting things:\n",
    "- #### **The Mean Square Error** - this is how far away we are from the correct value on average.\n",
    "  - This should be **below 100**.\n",
    "- #### **The worst prediction** - this will tell us what our worst prediction was and how far away it was.\n",
    "  - This should be **below 5000** (although if it prices the item high rather than low, the management won't complain).\n",
    "- #### **A list of all prices below 0** - we probably want as few in this list as possible, as giving furniture away for less than free is rarely a substainable business model.\n",
    "  - There should be **0 negatively priced items**."
   ]
  },
  {
   "cell_type": "markdown",
   "id": "d8a20af4",
   "metadata": {},
   "source": [
    "### MSE"
   ]
  },
  {
   "cell_type": "code",
   "execution_count": null,
   "id": "1d199c42-0c8d-4ef4-b960-32ed5f047864",
   "metadata": {},
   "outputs": [],
   "source": [
    "from support_functions.evaluate_model import model_evaluation\n",
    "worst_df, below_zero_df = model_evaluation(MODEL_NAME, PREDICT_TARGET)"
   ]
  },
  {
   "cell_type": "markdown",
   "id": "52b1413a",
   "metadata": {},
   "source": [
    "### Worst prediction"
   ]
  },
  {
   "cell_type": "code",
   "execution_count": null,
   "id": "3d72ae3d-4850-4e99-b8cd-5e3a7acf5d8a",
   "metadata": {},
   "outputs": [],
   "source": [
    "worst_df"
   ]
  },
  {
   "cell_type": "markdown",
   "id": "70fa8582",
   "metadata": {},
   "source": [
    "### Negative prices"
   ]
  },
  {
   "cell_type": "code",
   "execution_count": null,
   "id": "5d56f18e-b161-4de3-8107-fc83375bb1f6",
   "metadata": {},
   "outputs": [],
   "source": [
    "print(f\"Number of negative prices: {len(below_zero_df)}\")\n",
    "below_zero_df.head()"
   ]
  },
  {
   "cell_type": "markdown",
   "id": "d0bda036-bef3-41e3-84bb-59a01f1b8f2f",
   "metadata": {},
   "source": [
    "I think this video from our competitor IKEA describes well the result we just saw:"
   ]
  },
  {
   "cell_type": "code",
   "execution_count": null,
   "id": "5ad0646c-29a2-484c-b624-6a6ab8c7eff7",
   "metadata": {},
   "outputs": [],
   "source": [
    "from IPython.display import YouTubeVideo\n",
    "\n",
    "YouTubeVideo('NlWCLw75XnE', width=800, height=300)"
   ]
  },
  {
   "cell_type": "markdown",
   "id": "da722dea-ea11-4bd5-b86f-830bb7d1c81b",
   "metadata": {},
   "source": [
    "Now that we have some insight into that the model *does* go wrong, let's see if we can get an understanding of *what's* going wrong.  \n",
    "For that, we will use TrustyAI's **Counterfactual** and **SHAP** 🧙‍♂️"
   ]
  },
  {
   "cell_type": "markdown",
   "id": "af565469",
   "metadata": {},
   "source": [
    "# TrustyAI"
   ]
  },
  {
   "cell_type": "markdown",
   "id": "74cf5aef",
   "metadata": {},
   "source": [
    "With TrustyAI we can understand not only that something is wrong, but also *what* is wrong."
   ]
  },
  {
   "cell_type": "markdown",
   "id": "4b644a51-4536-4400-8c7e-c3afde8ecccd",
   "metadata": {},
   "source": [
    "## Counterfactual Analysis\n",
    "Counterfactual analysis will tell us what values we would have to input to get a different, desired, answer than the one we got.  \n",
    "Here we will use it to see what we would have to change in one of our results for the value to be possitive. \n",
    "\n",
    "We also need to choose a **DATAPOINT** to analyze. We can start with datapoint number 655, but you can pick any from the above list of datapoints which return value < 0."
   ]
  },
  {
   "cell_type": "code",
   "execution_count": 9,
   "id": "19989191-9199-4af3-bbf6-c64b64da3710",
   "metadata": {},
   "outputs": [],
   "source": [
    "DATAPOINT=655"
   ]
  },
  {
   "cell_type": "code",
   "execution_count": null,
   "id": "e29987ad-e058-48f8-88b2-0bc822025399",
   "metadata": {},
   "outputs": [],
   "source": [
    "from support_functions.counterfactual import counterfactual\n",
    "explanation = counterfactual(MODEL_NAME, PREDICT_TARGET, DATAPOINT)"
   ]
  },
  {
   "cell_type": "markdown",
   "id": "39e67b76-b5e9-4f93-95a5-3c65c4ba5dc8",
   "metadata": {},
   "source": [
    "We can now see the results of our counterfacutal analysis!  \n",
    "In the first table it will show us how much it needed to change a feature to get the value to become possitive.  \n",
    "It's noteworthy that it tries to do the smallest change possible."
   ]
  },
  {
   "cell_type": "code",
   "execution_count": null,
   "id": "ac8ab71d-79b7-46be-8059-e5018f4b1686",
   "metadata": {},
   "outputs": [],
   "source": [
    "explanation.as_dataframe()"
   ]
  },
  {
   "cell_type": "markdown",
   "id": "573005a0-c050-4ebd-85fb-d1a94d0661a8",
   "metadata": {},
   "source": [
    "Here is a small version of that big table (for those like me who don't want to scoure through it).  \n",
    "This small version only shows the feature that needed a change to make the result possitive."
   ]
  },
  {
   "cell_type": "code",
   "execution_count": null,
   "id": "8d656831-9184-40b6-bd6c-fb487c5816ab",
   "metadata": {},
   "outputs": [],
   "source": [
    "df = explanation.as_dataframe()\n",
    "df[df.difference != 0.0]"
   ]
  },
  {
   "cell_type": "markdown",
   "id": "fce7345d-bbf3-46ce-a7d9-06251232bb01",
   "metadata": {},
   "source": [
    "Finally, we can see the exact same thing - the original value(s) vs what they need to be to make our prediction possitive.  \n",
    "But, this time it's visualized in a nice graph!"
   ]
  },
  {
   "cell_type": "code",
   "execution_count": null,
   "id": "38decb83-00ce-4af1-a6e4-acc7af83ec34",
   "metadata": {},
   "outputs": [],
   "source": [
    "if not df[df.difference != 0.0].empty:\n",
    "    explanation.plot()\n",
    "else:\n",
    "    print(f\"We did not manage to make '{PREDICT_TARGET}' larger than '0', or it was already above '0'\")"
   ]
  },
  {
   "cell_type": "markdown",
   "id": "75c8dce6-6ab9-45ea-92df-b110d9c5a5c0",
   "metadata": {},
   "source": [
    "## SHAP"
   ]
  },
  {
   "cell_type": "markdown",
   "id": "a4c4cb6a-2d38-48a2-b264-8a48df79c087",
   "metadata": {},
   "source": [
    "SHAP (SHapley Additive exPlanations) values will tell us what input features likely had the biggest contribution to making the output what it is.  \n",
    "This is great to see what caused our bad predictions to be bad, and what features we need to look over extra in our dataset.  \n",
    "\n",
    "Note that we for SHAP, just like Counterfactuals, analyze a single datapoint that we find interesting. Feel free to replace this with a number from the above list."
   ]
  },
  {
   "cell_type": "code",
   "execution_count": null,
   "id": "dca0cb72-0962-4a51-be46-e45d082a1512",
   "metadata": {},
   "outputs": [],
   "source": [
    "from support_functions.shap import shap\n",
    "shap_explanations = shap(MODEL_NAME, PREDICT_TARGET, DATAPOINT)"
   ]
  },
  {
   "cell_type": "markdown",
   "id": "bc9e3673-080a-4f49-9fb8-785e94b00c73",
   "metadata": {},
   "source": [
    "Now we can look at the results!"
   ]
  },
  {
   "cell_type": "markdown",
   "id": "61b50d7f-4b96-4d1a-8cb3-904605d2dffd",
   "metadata": {},
   "source": [
    "First, we will get a table of values.  \n",
    "Here we can see the **Mean Background Value** - this is the average base value we were talking about before.  \n",
    "We can also see our **Value**, which is the normalized data point that we sent into the explainer. Red values are lower than the average value and green values are higher.  \n",
    "Finally, we have the **SHAP Value**. These indicate how much that input feature had an effect on the output. Red indicates a negative contribution to the prediction while green a positive contribution. The larger the value, the larger the contribution.\n",
    "\n",
    "You here see a lot more features than before, that's because we had to split the category feature into multiple ones."
   ]
  },
  {
   "cell_type": "code",
   "execution_count": null,
   "id": "a5c4ab44-d0bb-4823-b52c-53df78176a6a",
   "metadata": {},
   "outputs": [],
   "source": [
    "shap_explanations.as_html()[PREDICT_TARGET]"
   ]
  },
  {
   "cell_type": "markdown",
   "id": "22bcd019-8cdb-4210-be02-9cfd53c82224",
   "metadata": {},
   "source": [
    "We can also visualize it as a candlestick plot, seeing how the different input features build up to the output value.  \n",
    "The labels at the bottom are a bit hard to see, so best to check in the table above to see what feature it was. They follow the same order.  "
   ]
  },
  {
   "cell_type": "code",
   "execution_count": null,
   "id": "5df2ab5f-810c-47a1-99ed-1423f1d78e63",
   "metadata": {},
   "outputs": [],
   "source": [
    "from support_functions.plot_shap import _matplotlib_plot\n",
    "_matplotlib_plot(explanations=shap_explanations, output_name=PREDICT_TARGET)"
   ]
  },
  {
   "cell_type": "markdown",
   "id": "cdb5251d-9459-49c0-81ac-bfe455e242c9",
   "metadata": {},
   "source": [
    "## Now you try it!\n",
    "See how small you can get the worst difference and the mean square error, and if you can remove all negative values.  \n",
    "Start by removing features, changing the train and test split, or any other things you want to try your hands on.  \n",
    "Good luck and have fun! 🙌"
   ]
  }
 ],
 "metadata": {
  "kernelspec": {
   "display_name": "Python 3.11",
   "language": "python",
   "name": "python3"
  },
  "language_info": {
   "codemirror_mode": {
    "name": "ipython",
    "version": 3
   },
   "file_extension": ".py",
   "mimetype": "text/x-python",
   "name": "python",
   "nbconvert_exporter": "python",
   "pygments_lexer": "ipython3",
   "version": "3.11.7"
  }
 },
 "nbformat": 4,
 "nbformat_minor": 5
}
