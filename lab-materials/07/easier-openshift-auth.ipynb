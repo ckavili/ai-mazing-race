{
 "cells": [
  {
   "cell_type": "code",
   "execution_count": null,
   "metadata": {},
   "outputs": [],
   "source": [
    "# We will need to run some oc commands\n",
    "# You will have to to authenticate yourself against the OpenShift cluster.\n",
    "# Run this cell to get the full instructions.\n",
    "\n",
    "import re\n",
    "import os\n",
    "\n",
    "NOTEBOOK_ARGS = os.environ.get('NOTEBOOK_ARGS', '')\n",
    "match = re.search(r'\"hub_host\":\"https://.*?(apps\\.[^\"]+)\"', NOTEBOOK_ARGS)\n",
    "hub_host_value = match.group(1)\n",
    "\n",
    "login_url = 'https://oauth-openshift.' + hub_host_value + \"/oauth/token/request\"\n",
    "\n",
    "print('Open the following URL to get your authentication token.')\n",
    "print('Authenticate, then click on \"Display token\", and copy the content of the line under \"Log in with this token\"')\n",
    "print('You can then come back here and paste this content in the next cell.')\n",
    "print('Login URL: '+login_url)"
   ]
  }
 ],
 "metadata": {
  "kernelspec": {
   "display_name": "app-root",
   "language": "python",
   "name": "python3"
  },
  "language_info": {
   "codemirror_mode": {
    "name": "ipython",
    "version": 3
   },
   "file_extension": ".py",
   "mimetype": "text/x-python",
   "name": "python",
   "nbconvert_exporter": "python",
   "pygments_lexer": "ipython3",
   "version": "3.9.16"
  }
 },
 "nbformat": 4,
 "nbformat_minor": 2
}
