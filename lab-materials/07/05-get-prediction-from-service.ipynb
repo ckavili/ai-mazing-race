{
 "cells": [
  {
   "cell_type": "code",
   "execution_count": null,
   "id": "c9766a05-9ada-4557-9f43-fa570dcf7b63",
   "metadata": {},
   "outputs": [],
   "source": []
  },
  {
   "cell_type": "code",
   "execution_count": null,
   "id": "66408e89-4d2c-426f-98e4-73f7394765f0",
   "metadata": {},
   "outputs": [],
   "source": []
  },
  {
   "cell_type": "code",
   "execution_count": null,
   "id": "9a92d91f-b60b-49a6-b495-f7ad9f0e8105",
   "metadata": {},
   "outputs": [],
   "source": []
  },
  {
   "cell_type": "code",
   "execution_count": null,
   "id": "3c789538-0277-4470-abf3-54cf06c5fa29",
   "metadata": {},
   "outputs": [],
   "source": []
  },
  {
   "cell_type": "code",
   "execution_count": null,
   "id": "5fb876b8-2375-4c3a-bb24-4a38c376047f",
   "metadata": {
    "tags": []
   },
   "outputs": [],
   "source": [
    "import tensorflow as tf \n",
    "import json\n",
    "import base64"
   ]
  },
  {
   "cell_type": "code",
   "execution_count": null,
   "id": "abf5aba1-daea-4224-90c8-fffb6b6508ab",
   "metadata": {},
   "outputs": [],
   "source": [
    "image_path = tf.keras.utils.get_file(\n",
    "    \"image.jpg\", \"http://images.cocodataset.org/val2017/000000039769.jpg\"\n",
    ")\n",
    "bytes_inputs = tf.io.read_file(image_path)\n",
    "b64str = base64.urlsafe_b64encode(bytes_inputs.numpy()).decode(\"utf-8\")\n",
    "data = json.dumps(\n",
    "    {\"signature_name\": \"serving_default\", \"instances\": [b64str]}\n",
    ")\n",
    "\n",
    "json_response = requests.post(\n",
    "    \"http://<ENDPOINT-IP>:8501/v1/models/hf-vit:predict\", \n",
    "    headers={\"content-type\": \"application/json\"}, \n",
    "    data=data\n",
    ")\n",
    "print(json.loads(json_response.text))\n",
    "\n",
    "---------OUTPUT---------\n",
    "{'predictions': [{'label': 'Egyptian cat', 'confidence': 0.896659195}]}"
   ]
  },
  {
   "cell_type": "code",
   "execution_count": null,
   "id": "945c4bec-754f-4bce-9f11-04a9352502ae",
   "metadata": {},
   "outputs": [],
   "source": []
  },
  {
   "cell_type": "code",
   "execution_count": null,
   "id": "28f47125-cc79-4af7-800f-76ab71d0dd7a",
   "metadata": {
    "tags": []
   },
   "outputs": [],
   "source": [
    "import requests\n",
    "import json\n",
    "import base64\n",
    "from urllib.request import urlretrieve\n",
    "from PIL import Image\n",
    "import io\n",
    "\n",
    "# Download the image using urllib\n",
    "image_url = \"http://images.cocodataset.org/val2017/000000039769.jpg\"\n",
    "image_path = \"image.jpg\"\n",
    "urlretrieve(image_url, image_path)\n",
    "\n",
    "# Read the image in binary mode\n",
    "with open(image_path, \"rb\") as image_file:\n",
    "    image_bytes = image_file.read()\n",
    "\n",
    "# Encode the image as a base64 string\n",
    "b64str = base64.urlsafe_b64encode(image_bytes).decode(\"utf-8\")\n",
    "\n",
    "# Prepare the JSON payload\n",
    "data = json.dumps({\n",
    "    \"signature_name\": \"serving_default\",\n",
    "    \"instances\": [b64str]\n",
    "})\n",
    "\n",
    "# Send a POST request to the model endpoint\n",
    "endpoint_url = \"https://wildfire01.user9.svc.cluster.local/v2/models/wildfire01/infer\"\n",
    "headers = {\"content-type\": \"application/json\"}\n",
    "json_response = requests.post(endpoint_url, headers=headers, data=data, verify=False)\n",
    "\n",
    "# Parse and print the response\n",
    "response_data = json.loads(json_response.text)\n",
    "print(response_data)\n",
    "\n",
    "# RestURL = 'https://test03.user3.svc.cluster.local'\n",
    "# curl -k \\\n",
    "#      -X POST \\\n",
    "#      ${RestURL}/v2/models/test03/infer \\\n",
    "#      -T \"img/01.jpg\""
   ]
  },
  {
   "cell_type": "code",
   "execution_count": null,
   "id": "ceb8fbe0-89ef-47ae-a04f-b789174ee465",
   "metadata": {},
   "outputs": [],
   "source": [
    "\n",
    "\n",
    "\n",
    "\n"
   ]
  },
  {
   "cell_type": "code",
   "execution_count": null,
   "id": "d263fec9-7e46-4f28-a687-661bc7a6c5f6",
   "metadata": {
    "tags": []
   },
   "outputs": [],
   "source": [
    "\n",
    "\n",
    "from transformers import TFViTForImageClassification\n",
    "\n",
    "temp_model_dir = \"vit\"\n",
    "ckpt = \"google/vit-base-patch16-224\"\n",
    "\n",
    "model = TFViTForImageClassification.from_pretrained(ckpt)\n",
    "model.save_pretrained(temp_model_dir, saved_model=True)"
   ]
  },
  {
   "cell_type": "code",
   "execution_count": null,
   "id": "f07658f4-a51a-4941-9a78-0308db1e734b",
   "metadata": {
    "tags": []
   },
   "outputs": [],
   "source": [
    "from transformers import AutoImageProcessor\n",
    "\n",
    "processor = AutoImageProcessor.from_pretrained(ckpt)\n",
    "print(processor)\n"
   ]
  },
  {
   "cell_type": "code",
   "execution_count": 17,
   "id": "63f4f8b9-b969-4677-9d7c-57df0e6121fe",
   "metadata": {
    "tags": []
   },
   "outputs": [
    {
     "name": "stdout",
     "output_type": "stream",
     "text": [
      "{'error': 'Could not parse input content. Not valid ndarray detected'}\n"
     ]
    },
    {
     "name": "stderr",
     "output_type": "stream",
     "text": [
      "/opt/app-root/lib64/python3.9/site-packages/urllib3/connectionpool.py:1063: InsecureRequestWarning: Unverified HTTPS request is being made to host 'wildfire01.user9.svc.cluster.local'. Adding certificate verification is strongly advised. See: https://urllib3.readthedocs.io/en/1.26.x/advanced-usage.html#ssl-warnings\n",
      "  warnings.warn(\n"
     ]
    }
   ],
   "source": [
    "import requests\n",
    "import base64\n",
    "\n",
    "image = \"./wildfire-training/the_wildfire_dataset/the_wildfire_dataset/train/fire/Both_smoke_and_fire/19197957859_cb989ed680_o.jpg\"\n",
    "# Read and base64 encode the image\n",
    "with open(image, \"rb\") as f:\n",
    "    img_data = base64.b64encode(f.read()).decode(\"utf-8\")\n",
    "\n",
    "# Prepare the request data\n",
    "payload = {\n",
    "    \"inputs\": [\n",
    "        {\n",
    "            \"name\": \"wildfire01\",\n",
    "            \"shape\": [1, 3, 224, 224],  # Ensure this matches your model's input shape\n",
    "            \"datatype\": \"FP32\",\n",
    "            \"data\": img_data\n",
    "        }\n",
    "    ]\n",
    "}\n",
    "\n",
    "headers = {\n",
    "    \"Content-Type\": \"application/json\"\n",
    "}\n",
    "\n",
    "endpoint_url = \"https://wildfire01.user9.svc.cluster.local/v2/models/wildfire01/infer\"\n",
    "# Send the request\n",
    "response = requests.post(\n",
    "    endpoint_url,\n",
    "    json=payload,\n",
    "    headers=headers,\n",
    "    verify=False\n",
    ")\n",
    "\n",
    "print(response.json())  # Display the response, which should include the classification result\n"
   ]
  },
  {
   "cell_type": "code",
   "execution_count": 12,
   "id": "3b9ebc68-b76f-4d31-b03c-a9aaaa45e3bc",
   "metadata": {
    "tags": []
   },
   "outputs": [
    {
     "name": "stdout",
     "output_type": "stream",
     "text": [
      "{'error': 'The file is not valid json - Error: Invalid value. Offset: 0'}\n"
     ]
    },
    {
     "name": "stderr",
     "output_type": "stream",
     "text": [
      "/opt/app-root/lib64/python3.9/site-packages/urllib3/connectionpool.py:1063: InsecureRequestWarning: Unverified HTTPS request is being made to host 'wildfire01.user9.svc.cluster.local'. Adding certificate verification is strongly advised. See: https://urllib3.readthedocs.io/en/1.26.x/advanced-usage.html#ssl-warnings\n",
      "  warnings.warn(\n"
     ]
    }
   ],
   "source": [
    "import requests\n",
    "\n",
    "image_path = \"./wildfire-training/the_wildfire_dataset/the_wildfire_dataset/train/fire/Both_smoke_and_fire/19197957859_cb989ed680_o.jpg\"\n",
    "\n",
    "with open(image_path, \"rb\") as f:\n",
    "    img_data = f.read()\n",
    "\n",
    "headers = {\n",
    "    \"Content-Type\": \"application/octet-stream\"  # Send as raw binary\n",
    "}\n",
    "\n",
    "endpoint_url = \"https://wildfire01.user9.svc.cluster.local/v2/models/wildfire01/infer\"\n",
    "\n",
    "response = requests.post(\n",
    "    endpoint_url,\n",
    "    data=img_data,  # Send image data directly\n",
    "    headers=headers,\n",
    "    verify=False\n",
    ")\n",
    "\n",
    "print(response.json())  # Display the response, which should include the classification result\n"
   ]
  },
  {
   "cell_type": "code",
   "execution_count": 13,
   "id": "ab120259-8fca-4f7d-a302-17beefd9abff",
   "metadata": {
    "tags": []
   },
   "outputs": [
    {
     "name": "stdout",
     "output_type": "stream",
     "text": [
      "{'error': 'The file is not valid json - Error: Invalid value. Offset: 0'}\n"
     ]
    },
    {
     "name": "stderr",
     "output_type": "stream",
     "text": [
      "/opt/app-root/lib64/python3.9/site-packages/urllib3/connectionpool.py:1063: InsecureRequestWarning: Unverified HTTPS request is being made to host 'wildfire01.user9.svc.cluster.local'. Adding certificate verification is strongly advised. See: https://urllib3.readthedocs.io/en/1.26.x/advanced-usage.html#ssl-warnings\n",
      "  warnings.warn(\n"
     ]
    }
   ],
   "source": [
    "from PIL import Image\n",
    "import io\n",
    "\n",
    "# Open and resize the image\n",
    "img = Image.open(image_path)\n",
    "img = img.resize((224, 224))  # Match the expected input size\n",
    "\n",
    "# Convert the image to bytes\n",
    "img_byte_arr = io.BytesIO()\n",
    "img.save(img_byte_arr, format=\"JPEG\")\n",
    "img_data = img_byte_arr.getvalue()\n",
    "\n",
    "headers = {\n",
    "    \"Content-Type\": \"application/octet-stream\"\n",
    "}\n",
    "\n",
    "response = requests.post(\n",
    "    endpoint_url,\n",
    "    data=img_data,\n",
    "    headers=headers,\n",
    "    verify=False\n",
    ")\n",
    "\n",
    "print(response.json())  # Display the response\n"
   ]
  },
  {
   "cell_type": "code",
   "execution_count": null,
   "id": "1d675d06-6ba8-47f5-acbe-54587a700525",
   "metadata": {},
   "outputs": [],
   "source": []
  }
 ],
 "metadata": {
  "kernelspec": {
   "display_name": "Python 3.9",
   "language": "python",
   "name": "python3"
  },
  "language_info": {
   "codemirror_mode": {
    "name": "ipython",
    "version": 3
   },
   "file_extension": ".py",
   "mimetype": "text/x-python",
   "name": "python",
   "nbconvert_exporter": "python",
   "pygments_lexer": "ipython3",
   "version": "3.9.18"
  }
 },
 "nbformat": 4,
 "nbformat_minor": 5
}
