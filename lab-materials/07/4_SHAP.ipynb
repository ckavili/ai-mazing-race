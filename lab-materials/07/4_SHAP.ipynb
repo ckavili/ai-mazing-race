{
 "cells": [
  {
   "cell_type": "markdown",
   "id": "430c9871",
   "metadata": {},
   "source": [
    "# SHAP\n",
    "\n",
    "SHAP (SHapley Additive exPlanations) is a method used to explain the output of machine learning models.  \n",
    "SHAP aims to explain how an input affects the output of the model, by showing the impact of each input feature on the output.  \n",
    "When reading the SHAP values, you will see for each input feature how much it positively or negatively pushed the output to the answer we got, compared to the average base value of the dataset.\n",
    "\n",
    "You can read more here: https://trustyai-explainability.github.io/trustyai-site/main/local-explainers.html"
   ]
  },
  {
   "cell_type": "code",
   "execution_count": 1,
   "id": "09d5e7c3",
   "metadata": {},
   "outputs": [
    {
     "name": "stdout",
     "output_type": "stream",
     "text": [
      "\n",
      "\u001b[1m[\u001b[0m\u001b[34;49mnotice\u001b[0m\u001b[1;39;49m]\u001b[0m\u001b[39;49m A new release of pip is available: \u001b[0m\u001b[31;49m23.2.1\u001b[0m\u001b[39;49m -> \u001b[0m\u001b[32;49m24.3.1\u001b[0m\n",
      "\u001b[1m[\u001b[0m\u001b[34;49mnotice\u001b[0m\u001b[1;39;49m]\u001b[0m\u001b[39;49m To update, run: \u001b[0m\u001b[32;49mpip install --upgrade pip\u001b[0m\n"
     ]
    }
   ],
   "source": [
    "!pip -q install \"numpy==1.26.4\" \"tensorflow==2.18.0\""
   ]
  },
  {
   "cell_type": "code",
   "execution_count": 2,
   "id": "5dd540f9",
   "metadata": {},
   "outputs": [],
   "source": [
    "import warnings\n",
    "\n",
    "# Ignore UserWarnings\n",
    "warnings.filterwarnings(\"ignore\", category=UserWarning)"
   ]
  },
  {
   "cell_type": "code",
   "execution_count": 3,
   "id": "fe95ffca-bec7-4d0b-b976-80df5ddc0463",
   "metadata": {
    "tags": []
   },
   "outputs": [
    {
     "name": "stderr",
     "output_type": "stream",
     "text": [
      "2024-12-20 08:12:56.958394: I tensorflow/core/util/port.cc:153] oneDNN custom operations are on. You may see slightly different numerical results due to floating-point round-off errors from different computation orders. To turn them off, set the environment variable `TF_ENABLE_ONEDNN_OPTS=0`.\n",
      "2024-12-20 08:12:56.971798: E external/local_xla/xla/stream_executor/cuda/cuda_fft.cc:477] Unable to register cuFFT factory: Attempting to register factory for plugin cuFFT when one has already been registered\n",
      "WARNING: All log messages before absl::InitializeLog() is called are written to STDERR\n",
      "E0000 00:00:1734682376.986522    8913 cuda_dnn.cc:8310] Unable to register cuDNN factory: Attempting to register factory for plugin cuDNN when one has already been registered\n",
      "E0000 00:00:1734682376.991089    8913 cuda_blas.cc:1418] Unable to register cuBLAS factory: Attempting to register factory for plugin cuBLAS when one has already been registered\n",
      "2024-12-20 08:12:57.006290: I tensorflow/core/platform/cpu_feature_guard.cc:210] This TensorFlow binary is optimized to use available CPU instructions in performance-critical operations.\n",
      "To enable the following instructions: AVX2 AVX512F AVX512_VNNI FMA, in other operations, rebuild TensorFlow with the appropriate compiler flags.\n"
     ]
    }
   ],
   "source": [
    "import pickle\n",
    "import pandas as pd\n",
    "import numpy as np\n",
    "import keras"
   ]
  },
  {
   "cell_type": "code",
   "execution_count": 4,
   "id": "55daf2fc-6133-4c75-9f69-fa126707f350",
   "metadata": {},
   "outputs": [],
   "source": [
    "OUTPUT_FEATURE = \"price\""
   ]
  },
  {
   "cell_type": "markdown",
   "id": "c129f634",
   "metadata": {},
   "source": [
    "Let's start by loading some artifacts.  \n",
    "We will need:\n",
    "- The ONNX model\n",
    "- Our pre-and-post processing artifacts\n",
    "    - scaler.pkl\n",
    "    - label_encoder.pkl\n",
    "- Some data\n",
    "    - The training inputs, these will be used to get an average input for our dataset\n",
    "    - The test data, these will be used to get a point we want to analyze"
   ]
  },
  {
   "cell_type": "code",
   "execution_count": 5,
   "id": "9fc9845c-f417-4d5d-88c2-0aca52b3da25",
   "metadata": {
    "tags": []
   },
   "outputs": [
    {
     "name": "stderr",
     "output_type": "stream",
     "text": [
      "2024-12-20 08:12:58.754408: E external/local_xla/xla/stream_executor/cuda/cuda_driver.cc:152] failed call to cuInit: INTERNAL: CUDA error: Failed call to cuInit: UNKNOWN ERROR (303)\n"
     ]
    }
   ],
   "source": [
    "keras_model = keras.saving.load_model(\"artifacts/model.keras\")\n",
    "\n",
    "with open('artifacts/feature_scaler.pkl', 'rb') as handle:\n",
    "    feature_scaler = pickle.load(handle)\n",
    "with open('artifacts/label_scaler.pkl', 'rb') as handle:\n",
    "    label_scaler = pickle.load(handle)\n",
    "\n",
    "test_data = pd.read_parquet('artifacts/X_test.parquet')\n",
    "train_data = pd.read_parquet('artifacts/X_train.parquet')"
   ]
  },
  {
   "cell_type": "code",
   "execution_count": 6,
   "id": "7a8688f3-748a-4e6c-a65d-b2ca0f2d7477",
   "metadata": {},
   "outputs": [
    {
     "data": {
      "text/plain": [
       "True"
      ]
     },
     "execution_count": 6,
     "metadata": {},
     "output_type": "execute_result"
    }
   ],
   "source": [
    "train_data[\"price\"].dtype == \"float64\""
   ]
  },
  {
   "cell_type": "code",
   "execution_count": 7,
   "id": "cb55a6be-f889-4a35-9993-8d5111a830e8",
   "metadata": {
    "tags": []
   },
   "outputs": [
    {
     "data": {
      "text/html": [
       "<div>\n",
       "<style scoped>\n",
       "    .dataframe tbody tr th:only-of-type {\n",
       "        vertical-align: middle;\n",
       "    }\n",
       "\n",
       "    .dataframe tbody tr th {\n",
       "        vertical-align: top;\n",
       "    }\n",
       "\n",
       "    .dataframe thead th {\n",
       "        text-align: right;\n",
       "    }\n",
       "</style>\n",
       "<table border=\"1\" class=\"dataframe\">\n",
       "  <thead>\n",
       "    <tr style=\"text-align: right;\">\n",
       "      <th></th>\n",
       "      <th>sellable_online</th>\n",
       "      <th>other_colors</th>\n",
       "      <th>depth</th>\n",
       "      <th>height</th>\n",
       "      <th>width</th>\n",
       "      <th>discounted</th>\n",
       "      <th>width_d</th>\n",
       "      <th>height_d</th>\n",
       "      <th>depth_d</th>\n",
       "      <th>discount_amount</th>\n",
       "      <th>...</th>\n",
       "      <th>category_Children's furniture</th>\n",
       "      <th>category_Nursery furniture</th>\n",
       "      <th>category_Outdoor furniture</th>\n",
       "      <th>category_Room dividers</th>\n",
       "      <th>category_Sideboards, buffets &amp; console tables</th>\n",
       "      <th>category_Sofas &amp; armchairs</th>\n",
       "      <th>category_TV &amp; media furniture</th>\n",
       "      <th>category_Tables &amp; desks</th>\n",
       "      <th>category_Trolleys</th>\n",
       "      <th>category_Wardrobes</th>\n",
       "    </tr>\n",
       "  </thead>\n",
       "  <tbody>\n",
       "    <tr>\n",
       "      <th>532</th>\n",
       "      <td>1</td>\n",
       "      <td>0</td>\n",
       "      <td>0.144531</td>\n",
       "      <td>0.012876</td>\n",
       "      <td>0.25194</td>\n",
       "      <td>1</td>\n",
       "      <td>0</td>\n",
       "      <td>1</td>\n",
       "      <td>1</td>\n",
       "      <td>0.009765</td>\n",
       "      <td>...</td>\n",
       "      <td>0</td>\n",
       "      <td>0</td>\n",
       "      <td>0</td>\n",
       "      <td>0</td>\n",
       "      <td>0</td>\n",
       "      <td>0</td>\n",
       "      <td>0</td>\n",
       "      <td>0</td>\n",
       "      <td>0</td>\n",
       "      <td>0</td>\n",
       "    </tr>\n",
       "  </tbody>\n",
       "</table>\n",
       "<p>1 rows × 28 columns</p>\n",
       "</div>"
      ],
      "text/plain": [
       "     sellable_online  other_colors     depth    height    width  discounted  \\\n",
       "532                1             0  0.144531  0.012876  0.25194           1   \n",
       "\n",
       "     width_d  height_d  depth_d  discount_amount  ...  \\\n",
       "532        0         1        1         0.009765  ...   \n",
       "\n",
       "     category_Children's furniture  category_Nursery furniture  \\\n",
       "532                              0                           0   \n",
       "\n",
       "     category_Outdoor furniture  category_Room dividers  \\\n",
       "532                           0                       0   \n",
       "\n",
       "     category_Sideboards, buffets & console tables  \\\n",
       "532                                              0   \n",
       "\n",
       "     category_Sofas & armchairs  category_TV & media furniture  \\\n",
       "532                           0                              0   \n",
       "\n",
       "     category_Tables & desks  category_Trolleys  category_Wardrobes  \n",
       "532                        0                  0                   0  \n",
       "\n",
       "[1 rows x 28 columns]"
      ]
     },
     "execution_count": 7,
     "metadata": {},
     "output_type": "execute_result"
    }
   ],
   "source": [
    "strange_prediction = test_data.loc[[532]].drop(OUTPUT_FEATURE, axis=1)\n",
    "strange_prediction"
   ]
  },
  {
   "cell_type": "markdown",
   "id": "22e29b8f",
   "metadata": {},
   "source": [
    "TrustyAI SHAP explainer requires our model to have a pandas dataframe as an input, and numpy or pandas output, so we wrap our model in a pred() function that makes sure the input and output are converted properly. "
   ]
  },
  {
   "cell_type": "code",
   "execution_count": 8,
   "id": "0df053e9-bf56-4b03-9e9c-f7876cb19269",
   "metadata": {},
   "outputs": [],
   "source": [
    "def pred(x):\n",
    "    prediction = keras_model.predict(x)\n",
    "    return pd.DataFrame(prediction, columns=[OUTPUT_FEATURE])"
   ]
  },
  {
   "cell_type": "code",
   "execution_count": 9,
   "id": "7f587512-38e8-4e80-b78d-f6296d573924",
   "metadata": {
    "tags": []
   },
   "outputs": [],
   "source": [
    "from trustyai.model import Model\n",
    "trustyai_model = Model(pred, output_names=[OUTPUT_FEATURE])"
   ]
  },
  {
   "cell_type": "code",
   "execution_count": 10,
   "id": "acc63b48-8d61-4028-bdbd-219217e4f5fc",
   "metadata": {
    "tags": []
   },
   "outputs": [
    {
     "name": "stdout",
     "output_type": "stream",
     "text": [
      "\u001b[1m1/1\u001b[0m \u001b[32m━━━━━━━━━━━━━━━━━━━━\u001b[0m\u001b[37m\u001b[0m \u001b[1m0s\u001b[0m 68ms/step\n"
     ]
    },
    {
     "data": {
      "text/html": [
       "<div>\n",
       "<style scoped>\n",
       "    .dataframe tbody tr th:only-of-type {\n",
       "        vertical-align: middle;\n",
       "    }\n",
       "\n",
       "    .dataframe tbody tr th {\n",
       "        vertical-align: top;\n",
       "    }\n",
       "\n",
       "    .dataframe thead th {\n",
       "        text-align: right;\n",
       "    }\n",
       "</style>\n",
       "<table border=\"1\" class=\"dataframe\">\n",
       "  <thead>\n",
       "    <tr style=\"text-align: right;\">\n",
       "      <th></th>\n",
       "      <th>price</th>\n",
       "    </tr>\n",
       "  </thead>\n",
       "  <tbody>\n",
       "    <tr>\n",
       "      <th>0</th>\n",
       "      <td>-0.057931</td>\n",
       "    </tr>\n",
       "  </tbody>\n",
       "</table>\n",
       "</div>"
      ],
      "text/plain": [
       "      price\n",
       "0 -0.057931"
      ]
     },
     "execution_count": 10,
     "metadata": {},
     "output_type": "execute_result"
    }
   ],
   "source": [
    "prediction = trustyai_model(strange_prediction)\n",
    "prediction"
   ]
  },
  {
   "cell_type": "code",
   "execution_count": 11,
   "id": "33be2325-1190-4ef8-93d5-3584eee342c1",
   "metadata": {},
   "outputs": [],
   "source": [
    "for key in train_data.columns:\n",
    "    test_data[[key]] = test_data[[key]].astype(\"float32\")\n",
    "    train_data[[key]] = train_data[[key]].astype(\"float32\")\n",
    "    try:\n",
    "        strange_prediction[[key]] = strange_prediction[[key]].astype(\"float32\")\n",
    "    except:\n",
    "        pass"
   ]
  },
  {
   "cell_type": "markdown",
   "id": "827d92ab",
   "metadata": {},
   "source": [
    "We arbitrarily choose the first data point (song) in our test data to be the data we want to test.  \n",
    "In practice, you might choose the data point that you predict the worst on, or a data point that gave an unexpected answer.  \n",
    "We also look at how our data point looks when normalized (after going through pre-processing). This is how it will look like going into the model"
   ]
  },
  {
   "cell_type": "markdown",
   "id": "0e713b40",
   "metadata": {},
   "source": [
    "Let's try to use our TrustyAI Model to predict the output of our data point we want to explain with SHAP."
   ]
  },
  {
   "cell_type": "markdown",
   "id": "bc38c14c",
   "metadata": {},
   "source": [
    "And with everything set up, we can create a SHAP explainer and let it analyze our data point!  \n",
    "You can also note that we add 100 data points from our training dataset to the SHAPExplainer, this is used to calculate the average base values of our dataset. With this, we can see how much our interesting datapoint contributes to the prediction compared to what a \"standard\" value would."
   ]
  },
  {
   "cell_type": "code",
   "execution_count": 12,
   "id": "165978b5-2c24-4043-8757-f8944e815695",
   "metadata": {
    "tags": []
   },
   "outputs": [],
   "source": [
    "from trustyai.explainers import SHAPExplainer\n",
    "explainer = SHAPExplainer(background=train_data[:100].drop(OUTPUT_FEATURE, axis=1))"
   ]
  },
  {
   "cell_type": "code",
   "execution_count": 13,
   "id": "a8996696-e26e-4eca-a907-6e62c033f9d3",
   "metadata": {
    "tags": []
   },
   "outputs": [
    {
     "name": "stdout",
     "output_type": "stream",
     "text": [
      "\u001b[1m4/4\u001b[0m \u001b[32m━━━━━━━━━━━━━━━━━━━━\u001b[0m\u001b[37m\u001b[0m \u001b[1m0s\u001b[0m 6ms/step  \n",
      "\u001b[1m13/13\u001b[0m \u001b[32m━━━━━━━━━━━━━━━━━━━━\u001b[0m\u001b[37m\u001b[0m \u001b[1m2s\u001b[0m 88ms/stepe\n",
      "\u001b[1m63/63\u001b[0m \u001b[32m━━━━━━━━━━━━━━━━━━━━\u001b[0m\u001b[37m\u001b[0m \u001b[1m19s\u001b[0m 291ms/step\n",
      "\u001b[1m63/63\u001b[0m \u001b[32m━━━━━━━━━━━━━━━━━━━━\u001b[0m\u001b[37m\u001b[0m \u001b[1m19s\u001b[0m 292ms/step\n",
      "\u001b[1m63/63\u001b[0m \u001b[32m━━━━━━━━━━━━━━━━━━━━\u001b[0m\u001b[37m\u001b[0m \u001b[1m19s\u001b[0m 293ms/step\n",
      "\u001b[1m63/63\u001b[0m \u001b[32m━━━━━━━━━━━━━━━━━━━━\u001b[0m\u001b[37m\u001b[0m \u001b[1m14s\u001b[0m 224ms/step\n",
      "\u001b[1m63/63\u001b[0m \u001b[32m━━━━━━━━━━━━━━━━━━━━\u001b[0m\u001b[37m\u001b[0m \u001b[1m9s\u001b[0m 136ms/step\n",
      "\u001b[1m63/63\u001b[0m \u001b[32m━━━━━━━━━━━━━━━━━━━━\u001b[0m\u001b[37m\u001b[0m \u001b[1m7s\u001b[0m 103ms/step\n",
      "\u001b[1m63/63\u001b[0m \u001b[32m━━━━━━━━━━━━━━━━━━━━\u001b[0m\u001b[37m\u001b[0m \u001b[1m13s\u001b[0m 202ms/step\n",
      "\u001b[1m63/63\u001b[0m \u001b[32m━━━━━━━━━━━━━━━━━━━━\u001b[0m\u001b[37m\u001b[0m \u001b[1m15s\u001b[0m 234ms/step\n",
      "\u001b[1m63/63\u001b[0m \u001b[32m━━━━━━━━━━━━━━━━━━━━\u001b[0m\u001b[37m\u001b[0m \u001b[1m16s\u001b[0m 238ms/step\n",
      "\u001b[1m63/63\u001b[0m \u001b[32m━━━━━━━━━━━━━━━━━━━━\u001b[0m\u001b[37m\u001b[0m \u001b[1m16s\u001b[0m 238ms/step\n",
      "\u001b[1m63/63\u001b[0m \u001b[32m━━━━━━━━━━━━━━━━━━━━\u001b[0m\u001b[37m\u001b[0m \u001b[1m7s\u001b[0m 108ms/step\n",
      "\u001b[1m63/63\u001b[0m \u001b[32m━━━━━━━━━━━━━━━━━━━━\u001b[0m\u001b[37m\u001b[0m \u001b[1m17s\u001b[0m 242ms/step\n",
      "\u001b[1m63/63\u001b[0m \u001b[32m━━━━━━━━━━━━━━━━━━━━\u001b[0m\u001b[37m\u001b[0m \u001b[1m5s\u001b[0m 73ms/step\n",
      "\u001b[1m63/63\u001b[0m \u001b[32m━━━━━━━━━━━━━━━━━━━━\u001b[0m\u001b[37m\u001b[0m \u001b[1m13s\u001b[0m 216ms/step\n",
      "\u001b[1m63/63\u001b[0m \u001b[32m━━━━━━━━━━━━━━━━━━━━\u001b[0m\u001b[37m\u001b[0m \u001b[1m20s\u001b[0m 304ms/step\n",
      "\u001b[1m63/63\u001b[0m \u001b[32m━━━━━━━━━━━━━━━━━━━━\u001b[0m\u001b[37m\u001b[0m \u001b[1m7s\u001b[0m 77ms/step\n",
      "\u001b[1m63/63\u001b[0m \u001b[32m━━━━━━━━━━━━━━━━━━━━\u001b[0m\u001b[37m\u001b[0m \u001b[1m17s\u001b[0m 267ms/step\n",
      "\u001b[1m63/63\u001b[0m \u001b[32m━━━━━━━━━━━━━━━━━━━━\u001b[0m\u001b[37m\u001b[0m \u001b[1m16s\u001b[0m 243ms/step\n",
      "\u001b[1m63/63\u001b[0m \u001b[32m━━━━━━━━━━━━━━━━━━━━\u001b[0m\u001b[37m\u001b[0m \u001b[1m14s\u001b[0m 218ms/step\n",
      "\u001b[1m63/63\u001b[0m \u001b[32m━━━━━━━━━━━━━━━━━━━━\u001b[0m\u001b[37m\u001b[0m \u001b[1m9s\u001b[0m 129ms/step\n",
      "\u001b[1m63/63\u001b[0m \u001b[32m━━━━━━━━━━━━━━━━━━━━\u001b[0m\u001b[37m\u001b[0m \u001b[1m15s\u001b[0m 241ms/step\n",
      "\u001b[1m63/63\u001b[0m \u001b[32m━━━━━━━━━━━━━━━━━━━━\u001b[0m\u001b[37m\u001b[0m \u001b[1m9s\u001b[0m 146ms/step\n",
      "\u001b[1m63/63\u001b[0m \u001b[32m━━━━━━━━━━━━━━━━━━━━\u001b[0m\u001b[37m\u001b[0m \u001b[1m17s\u001b[0m 272ms/step\n",
      "\u001b[1m63/63\u001b[0m \u001b[32m━━━━━━━━━━━━━━━━━━━━\u001b[0m\u001b[37m\u001b[0m \u001b[1m9s\u001b[0m 146ms/step\n",
      "\u001b[1m63/63\u001b[0m \u001b[32m━━━━━━━━━━━━━━━━━━━━\u001b[0m\u001b[37m\u001b[0m \u001b[1m7s\u001b[0m 115ms/step\n",
      "\u001b[1m63/63\u001b[0m \u001b[32m━━━━━━━━━━━━━━━━━━━━\u001b[0m\u001b[37m\u001b[0m \u001b[1m15s\u001b[0m 227ms/step\n",
      "\u001b[1m63/63\u001b[0m \u001b[32m━━━━━━━━━━━━━━━━━━━━\u001b[0m\u001b[37m\u001b[0m \u001b[1m18s\u001b[0m 282ms/step\n",
      "\u001b[1m63/63\u001b[0m \u001b[32m━━━━━━━━━━━━━━━━━━━━\u001b[0m\u001b[37m\u001b[0m \u001b[1m18s\u001b[0m 283ms/step\n",
      "\u001b[1m63/63\u001b[0m \u001b[32m━━━━━━━━━━━━━━━━━━━━\u001b[0m\u001b[37m\u001b[0m \u001b[1m18s\u001b[0m 293ms/step\n",
      "\u001b[1m63/63\u001b[0m \u001b[32m━━━━━━━━━━━━━━━━━━━━\u001b[0m\u001b[37m\u001b[0m \u001b[1m9s\u001b[0m 150ms/step\n",
      "\u001b[1m63/63\u001b[0m \u001b[32m━━━━━━━━━━━━━━━━━━━━\u001b[0m\u001b[37m\u001b[0m \u001b[1m17s\u001b[0m 263ms/step\n",
      "\u001b[1m63/63\u001b[0m \u001b[32m━━━━━━━━━━━━━━━━━━━━\u001b[0m\u001b[37m\u001b[0m \u001b[1m9s\u001b[0m 143ms/step\n",
      "\u001b[1m63/63\u001b[0m \u001b[32m━━━━━━━━━━━━━━━━━━━━\u001b[0m\u001b[37m\u001b[0m \u001b[1m18s\u001b[0m 297ms/step\n",
      "\u001b[1m63/63\u001b[0m \u001b[32m━━━━━━━━━━━━━━━━━━━━\u001b[0m\u001b[37m\u001b[0m \u001b[1m14s\u001b[0m 227ms/step\n",
      "\u001b[1m63/63\u001b[0m \u001b[32m━━━━━━━━━━━━━━━━━━━━\u001b[0m\u001b[37m\u001b[0m \u001b[1m18s\u001b[0m 287ms/step\n",
      "\u001b[1m63/63\u001b[0m \u001b[32m━━━━━━━━━━━━━━━━━━━━\u001b[0m\u001b[37m\u001b[0m \u001b[1m18s\u001b[0m 279ms/step\n",
      "\u001b[1m63/63\u001b[0m \u001b[32m━━━━━━━━━━━━━━━━━━━━\u001b[0m\u001b[37m\u001b[0m \u001b[1m9s\u001b[0m 151ms/step\n",
      "\u001b[1m63/63\u001b[0m \u001b[32m━━━━━━━━━━━━━━━━━━━━\u001b[0m\u001b[37m\u001b[0m \u001b[1m13s\u001b[0m 200ms/step\n",
      "\u001b[1m63/63\u001b[0m \u001b[32m━━━━━━━━━━━━━━━━━━━━\u001b[0m\u001b[37m\u001b[0m \u001b[1m8s\u001b[0m 124ms/step\n",
      "\u001b[1m63/63\u001b[0m \u001b[32m━━━━━━━━━━━━━━━━━━━━\u001b[0m\u001b[37m\u001b[0m \u001b[1m12s\u001b[0m 191ms/step\n",
      "\u001b[1m63/63\u001b[0m \u001b[32m━━━━━━━━━━━━━━━━━━━━\u001b[0m\u001b[37m\u001b[0m \u001b[1m11s\u001b[0m 156ms/step\n",
      "\u001b[1m63/63\u001b[0m \u001b[32m━━━━━━━━━━━━━━━━━━━━\u001b[0m\u001b[37m\u001b[0m \u001b[1m11s\u001b[0m 167ms/step\n",
      "\u001b[1m63/63\u001b[0m \u001b[32m━━━━━━━━━━━━━━━━━━━━\u001b[0m\u001b[37m\u001b[0m \u001b[1m8s\u001b[0m 125ms/step\n",
      "\u001b[1m63/63\u001b[0m \u001b[32m━━━━━━━━━━━━━━━━━━━━\u001b[0m\u001b[37m\u001b[0m \u001b[1m16s\u001b[0m 253ms/step\n",
      "\u001b[1m63/63\u001b[0m \u001b[32m━━━━━━━━━━━━━━━━━━━━\u001b[0m\u001b[37m\u001b[0m \u001b[1m15s\u001b[0m 233ms/step\n",
      "\u001b[1m63/63\u001b[0m \u001b[32m━━━━━━━━━━━━━━━━━━━━\u001b[0m\u001b[37m\u001b[0m \u001b[1m9s\u001b[0m 131ms/step\n",
      "\u001b[1m63/63\u001b[0m \u001b[32m━━━━━━━━━━━━━━━━━━━━\u001b[0m\u001b[37m\u001b[0m \u001b[1m14s\u001b[0m 222ms/step\n",
      "\u001b[1m63/63\u001b[0m \u001b[32m━━━━━━━━━━━━━━━━━━━━\u001b[0m\u001b[37m\u001b[0m \u001b[1m13s\u001b[0m 205ms/step\n",
      "\u001b[1m63/63\u001b[0m \u001b[32m━━━━━━━━━━━━━━━━━━━━\u001b[0m\u001b[37m\u001b[0m \u001b[1m8s\u001b[0m 127ms/step\n",
      "\u001b[1m63/63\u001b[0m \u001b[32m━━━━━━━━━━━━━━━━━━━━\u001b[0m\u001b[37m\u001b[0m \u001b[1m13s\u001b[0m 198ms/step\n",
      "\u001b[1m63/63\u001b[0m \u001b[32m━━━━━━━━━━━━━━━━━━━━\u001b[0m\u001b[37m\u001b[0m \u001b[1m7s\u001b[0m 92ms/step\n",
      "\u001b[1m63/63\u001b[0m \u001b[32m━━━━━━━━━━━━━━━━━━━━\u001b[0m\u001b[37m\u001b[0m \u001b[1m12s\u001b[0m 187ms/step\n",
      "\u001b[1m63/63\u001b[0m \u001b[32m━━━━━━━━━━━━━━━━━━━━\u001b[0m\u001b[37m\u001b[0m \u001b[1m8s\u001b[0m 129ms/step\n",
      "\u001b[1m63/63\u001b[0m \u001b[32m━━━━━━━━━━━━━━━━━━━━\u001b[0m\u001b[37m\u001b[0m \u001b[1m16s\u001b[0m 260ms/step\n",
      "\u001b[1m63/63\u001b[0m \u001b[32m━━━━━━━━━━━━━━━━━━━━\u001b[0m\u001b[37m\u001b[0m \u001b[1m8s\u001b[0m 94ms/step\n",
      "\u001b[1m63/63\u001b[0m \u001b[32m━━━━━━━━━━━━━━━━━━━━\u001b[0m\u001b[37m\u001b[0m \u001b[1m12s\u001b[0m 198ms/step\n",
      "\u001b[1m63/63\u001b[0m \u001b[32m━━━━━━━━━━━━━━━━━━━━\u001b[0m\u001b[37m\u001b[0m \u001b[1m16s\u001b[0m 260ms/step\n",
      "\u001b[1m63/63\u001b[0m \u001b[32m━━━━━━━━━━━━━━━━━━━━\u001b[0m\u001b[37m\u001b[0m \u001b[1m8s\u001b[0m 130ms/step\n",
      "\u001b[1m63/63\u001b[0m \u001b[32m━━━━━━━━━━━━━━━━━━━━\u001b[0m\u001b[37m\u001b[0m \u001b[1m15s\u001b[0m 239ms/step\n",
      "\u001b[1m63/63\u001b[0m \u001b[32m━━━━━━━━━━━━━━━━━━━━\u001b[0m\u001b[37m\u001b[0m \u001b[1m16s\u001b[0m 257ms/step\n",
      "\u001b[1m63/63\u001b[0m \u001b[32m━━━━━━━━━━━━━━━━━━━━\u001b[0m\u001b[37m\u001b[0m \u001b[1m16s\u001b[0m 258ms/step\n",
      "\u001b[1m63/63\u001b[0m \u001b[32m━━━━━━━━━━━━━━━━━━━━\u001b[0m\u001b[37m\u001b[0m \u001b[1m10s\u001b[0m 148ms/step\n",
      "\u001b[1m63/63\u001b[0m \u001b[32m━━━━━━━━━━━━━━━━━━━━\u001b[0m\u001b[37m\u001b[0m \u001b[1m16s\u001b[0m 250ms/step\n",
      "\u001b[1m63/63\u001b[0m \u001b[32m━━━━━━━━━━━━━━━━━━━━\u001b[0m\u001b[37m\u001b[0m \u001b[1m8s\u001b[0m 133ms/step\n",
      "\u001b[1m63/63\u001b[0m \u001b[32m━━━━━━━━━━━━━━━━━━━━\u001b[0m\u001b[37m\u001b[0m \u001b[1m15s\u001b[0m 238ms/step\n",
      "\u001b[1m63/63\u001b[0m \u001b[32m━━━━━━━━━━━━━━━━━━━━\u001b[0m\u001b[37m\u001b[0m \u001b[1m16s\u001b[0m 259ms/step\n",
      "\u001b[1m63/63\u001b[0m \u001b[32m━━━━━━━━━━━━━━━━━━━━\u001b[0m\u001b[37m\u001b[0m \u001b[1m16s\u001b[0m 241ms/step\n",
      "\u001b[1m63/63\u001b[0m \u001b[32m━━━━━━━━━━━━━━━━━━━━\u001b[0m\u001b[37m\u001b[0m \u001b[1m6s\u001b[0m 86ms/step\n",
      "\u001b[1m63/63\u001b[0m \u001b[32m━━━━━━━━━━━━━━━━━━━━\u001b[0m\u001b[37m\u001b[0m \u001b[1m10s\u001b[0m 164ms/step\n",
      "\u001b[1m63/63\u001b[0m \u001b[32m━━━━━━━━━━━━━━━━━━━━\u001b[0m\u001b[37m\u001b[0m \u001b[1m11s\u001b[0m 164ms/step\n",
      "\u001b[1m63/63\u001b[0m \u001b[32m━━━━━━━━━━━━━━━━━━━━\u001b[0m\u001b[37m\u001b[0m \u001b[1m15s\u001b[0m 223ms/step\n",
      "\u001b[1m63/63\u001b[0m \u001b[32m━━━━━━━━━━━━━━━━━━━━\u001b[0m\u001b[37m\u001b[0m \u001b[1m15s\u001b[0m 222ms/step\n",
      "\u001b[1m63/63\u001b[0m \u001b[32m━━━━━━━━━━━━━━━━━━━━\u001b[0m\u001b[37m\u001b[0m \u001b[1m9s\u001b[0m 135ms/step\n",
      "\u001b[1m63/63\u001b[0m \u001b[32m━━━━━━━━━━━━━━━━━━━━\u001b[0m\u001b[37m\u001b[0m \u001b[1m6s\u001b[0m 88ms/step\n",
      "\u001b[1m63/63\u001b[0m \u001b[32m━━━━━━━━━━━━━━━━━━━━\u001b[0m\u001b[37m\u001b[0m \u001b[1m19s\u001b[0m 267ms/step\n",
      "\u001b[1m63/63\u001b[0m \u001b[32m━━━━━━━━━━━━━━━━━━━━\u001b[0m\u001b[37m\u001b[0m \u001b[1m9s\u001b[0m 136ms/step\n",
      "\u001b[1m63/63\u001b[0m \u001b[32m━━━━━━━━━━━━━━━━━━━━\u001b[0m\u001b[37m\u001b[0m \u001b[1m6s\u001b[0m 100ms/step\n",
      "\u001b[1m63/63\u001b[0m \u001b[32m━━━━━━━━━━━━━━━━━━━━\u001b[0m\u001b[37m\u001b[0m \u001b[1m6s\u001b[0m 92ms/step\n",
      "\u001b[1m63/63\u001b[0m \u001b[32m━━━━━━━━━━━━━━━━━━━━\u001b[0m\u001b[37m\u001b[0m \u001b[1m14s\u001b[0m 219ms/step\n",
      "\u001b[1m63/63\u001b[0m \u001b[32m━━━━━━━━━━━━━━━━━━━━\u001b[0m\u001b[37m\u001b[0m \u001b[1m12s\u001b[0m 170ms/step\n",
      "\u001b[1m63/63\u001b[0m \u001b[32m━━━━━━━━━━━━━━━━━━━━\u001b[0m\u001b[37m\u001b[0m \u001b[1m17s\u001b[0m 267ms/step\n",
      "\u001b[1m63/63\u001b[0m \u001b[32m━━━━━━━━━━━━━━━━━━━━\u001b[0m\u001b[37m\u001b[0m \u001b[1m13s\u001b[0m 198ms/step\n",
      "\u001b[1m63/63\u001b[0m \u001b[32m━━━━━━━━━━━━━━━━━━━━\u001b[0m\u001b[37m\u001b[0m \u001b[1m11s\u001b[0m 171ms/step\n",
      "\u001b[1m63/63\u001b[0m \u001b[32m━━━━━━━━━━━━━━━━━━━━\u001b[0m\u001b[37m\u001b[0m \u001b[1m9s\u001b[0m 94ms/step\n",
      "\u001b[1m63/63\u001b[0m \u001b[32m━━━━━━━━━━━━━━━━━━━━\u001b[0m\u001b[37m\u001b[0m \u001b[1m7s\u001b[0m 95ms/step\n",
      "\u001b[1m63/63\u001b[0m \u001b[32m━━━━━━━━━━━━━━━━━━━━\u001b[0m\u001b[37m\u001b[0m \u001b[1m19s\u001b[0m 282ms/step\n",
      "\u001b[1m63/63\u001b[0m \u001b[32m━━━━━━━━━━━━━━━━━━━━\u001b[0m\u001b[37m\u001b[0m \u001b[1m17s\u001b[0m 271ms/step\n",
      "\u001b[1m63/63\u001b[0m \u001b[32m━━━━━━━━━━━━━━━━━━━━\u001b[0m\u001b[37m\u001b[0m \u001b[1m18s\u001b[0m 281ms/step\n",
      "\u001b[1m63/63\u001b[0m \u001b[32m━━━━━━━━━━━━━━━━━━━━\u001b[0m\u001b[37m\u001b[0m \u001b[1m7s\u001b[0m 104ms/step\n",
      "\u001b[1m63/63\u001b[0m \u001b[32m━━━━━━━━━━━━━━━━━━━━\u001b[0m\u001b[37m\u001b[0m \u001b[1m19s\u001b[0m 273ms/step\n",
      "\u001b[1m63/63\u001b[0m \u001b[32m━━━━━━━━━━━━━━━━━━━━\u001b[0m\u001b[37m\u001b[0m \u001b[1m9s\u001b[0m 140ms/step\n",
      "\u001b[1m63/63\u001b[0m \u001b[32m━━━━━━━━━━━━━━━━━━━━\u001b[0m\u001b[37m\u001b[0m \u001b[1m10s\u001b[0m 157ms/step\n",
      "\u001b[1m63/63\u001b[0m \u001b[32m━━━━━━━━━━━━━━━━━━━━\u001b[0m\u001b[37m\u001b[0m \u001b[1m17s\u001b[0m 271ms/step\n",
      "\u001b[1m63/63\u001b[0m \u001b[32m━━━━━━━━━━━━━━━━━━━━\u001b[0m\u001b[37m\u001b[0m \u001b[1m13s\u001b[0m 203ms/step\n",
      "\u001b[1m63/63\u001b[0m \u001b[32m━━━━━━━━━━━━━━━━━━━━\u001b[0m\u001b[37m\u001b[0m \u001b[1m7s\u001b[0m 96ms/step\n",
      "\u001b[1m63/63\u001b[0m \u001b[32m━━━━━━━━━━━━━━━━━━━━\u001b[0m\u001b[37m\u001b[0m \u001b[1m7s\u001b[0m 99ms/step\n",
      "\u001b[1m63/63\u001b[0m \u001b[32m━━━━━━━━━━━━━━━━━━━━\u001b[0m\u001b[37m\u001b[0m \u001b[1m12s\u001b[0m 177ms/step\n",
      "\u001b[1m63/63\u001b[0m \u001b[32m━━━━━━━━━━━━━━━━━━━━\u001b[0m\u001b[37m\u001b[0m \u001b[1m8s\u001b[0m 99ms/step\n",
      "\u001b[1m63/63\u001b[0m \u001b[32m━━━━━━━━━━━━━━━━━━━━\u001b[0m\u001b[37m\u001b[0m \u001b[1m9s\u001b[0m 145ms/step\n",
      "\u001b[1m63/63\u001b[0m \u001b[32m━━━━━━━━━━━━━━━━━━━━\u001b[0m\u001b[37m\u001b[0m \u001b[1m14s\u001b[0m 222ms/step\n",
      "\u001b[1m63/63\u001b[0m \u001b[32m━━━━━━━━━━━━━━━━━━━━\u001b[0m\u001b[37m\u001b[0m \u001b[1m20s\u001b[0m 321ms/step\n",
      "\u001b[1m63/63\u001b[0m \u001b[32m━━━━━━━━━━━━━━━━━━━━\u001b[0m\u001b[37m\u001b[0m \u001b[1m7s\u001b[0m 98ms/step\n",
      "\u001b[1m63/63\u001b[0m \u001b[32m━━━━━━━━━━━━━━━━━━━━\u001b[0m\u001b[37m\u001b[0m \u001b[1m9s\u001b[0m 144ms/step\n",
      "\u001b[1m63/63\u001b[0m \u001b[32m━━━━━━━━━━━━━━━━━━━━\u001b[0m\u001b[37m\u001b[0m \u001b[1m8s\u001b[0m 108ms/step\n",
      "\u001b[1m63/63\u001b[0m \u001b[32m━━━━━━━━━━━━━━━━━━━━\u001b[0m\u001b[37m\u001b[0m \u001b[1m7s\u001b[0m 100ms/step\n"
     ]
    }
   ],
   "source": [
    "explanations = explainer.explain(inputs=strange_prediction,\n",
    "                                 outputs=prediction,\n",
    "                                 model=trustyai_model)"
   ]
  },
  {
   "cell_type": "markdown",
   "id": "6de2e45e",
   "metadata": {},
   "source": [
    "With our SHAP Explainer ready we can start looking at the results.\n",
    "\n",
    "Let's choose a specific output country which we want to know how it got affected by the input values.  \n",
    "CH is the country that we are supposed to get as the popular country for this input, so it's especially interesting to see the input's effect on that output.  \n",
    "That being said, feel free to try with a few other countries and see what happens.  "
   ]
  },
  {
   "cell_type": "markdown",
   "id": "ee30d71c",
   "metadata": {},
   "source": [
    "First, we will get a table of values.  \n",
    "Here we can see the **Mean Background Value** - this is the average base value we were talking about before.  \n",
    "We can also see our **Value**, which is the normalized data point that we sent into the explainer. Red values are lower than the average value and green values are higher.  \n",
    "Finally, we have the **SHAP Value**. These indicate how much that input feature had an effect on the output. Red indicates a negative contribution to the prediction while green a positive contribution. The larger the value, the larger the contribution."
   ]
  },
  {
   "cell_type": "code",
   "execution_count": 14,
   "id": "946e764b-4412-4c47-9516-b38eae9c0b99",
   "metadata": {},
   "outputs": [
    {
     "data": {
      "text/html": [
       "<style type=\"text/css\">\n",
       "#T_97a2f_row1_col3, #T_97a2f_row8_col3, #T_97a2f_row12_col3, #T_97a2f_row16_col3, #T_97a2f_row18_col3, #T_97a2f_row20_col3, #T_97a2f_row22_col3, #T_97a2f_row23_col3 {\n",
       "  background-color: #fefffe;\n",
       "  color: #000000;\n",
       "}\n",
       "#T_97a2f_row2_col1, #T_97a2f_row3_col1, #T_97a2f_row4_col1, #T_97a2f_row5_col1, #T_97a2f_row7_col1, #T_97a2f_row10_col1, #T_97a2f_row11_col1, #T_97a2f_row13_col1, #T_97a2f_row15_col1, #T_97a2f_row17_col1, #T_97a2f_row18_col1, #T_97a2f_row19_col1, #T_97a2f_row20_col1, #T_97a2f_row21_col1, #T_97a2f_row24_col1, #T_97a2f_row25_col1, #T_97a2f_row26_col1, #T_97a2f_row27_col1, #T_97a2f_row28_col1 {\n",
       "  background-color: #ee0000;\n",
       "}\n",
       "#T_97a2f_row2_col3 {\n",
       "  background-color: #fef0f0;\n",
       "  color: #000000;\n",
       "}\n",
       "#T_97a2f_row3_col3 {\n",
       "  background-color: #feecec;\n",
       "  color: #000000;\n",
       "}\n",
       "#T_97a2f_row4_col3 {\n",
       "  background-color: #fbbebe;\n",
       "  color: #000000;\n",
       "}\n",
       "#T_97a2f_row5_col3 {\n",
       "  background-color: #fafefb;\n",
       "  color: #000000;\n",
       "}\n",
       "#T_97a2f_row6_col1, #T_97a2f_row8_col1, #T_97a2f_row9_col1, #T_97a2f_row14_col1 {\n",
       "  background-color: #13ba3c;\n",
       "}\n",
       "#T_97a2f_row6_col3 {\n",
       "  background-color: #f89c9c;\n",
       "  color: #000000;\n",
       "}\n",
       "#T_97a2f_row7_col3 {\n",
       "  background-color: #fab4b4;\n",
       "  color: #000000;\n",
       "}\n",
       "#T_97a2f_row9_col3 {\n",
       "  background-color: #fffafa;\n",
       "  color: #000000;\n",
       "}\n",
       "#T_97a2f_row10_col3 {\n",
       "  background-color: #fef2f2;\n",
       "  color: #000000;\n",
       "}\n",
       "#T_97a2f_row11_col3 {\n",
       "  background-color: #fddcdc;\n",
       "  color: #000000;\n",
       "}\n",
       "#T_97a2f_row13_col3, #T_97a2f_row19_col3, #T_97a2f_row21_col3, #T_97a2f_row26_col3 {\n",
       "  background-color: #f9fdfa;\n",
       "  color: #000000;\n",
       "}\n",
       "#T_97a2f_row14_col3 {\n",
       "  background-color: #ee0000;\n",
       "  color: #f1f1f1;\n",
       "}\n",
       "#T_97a2f_row15_col3 {\n",
       "  background-color: #eaf9ed;\n",
       "  color: #000000;\n",
       "}\n",
       "#T_97a2f_row17_col3, #T_97a2f_row28_col3 {\n",
       "  background-color: #f3fbf5;\n",
       "  color: #000000;\n",
       "}\n",
       "#T_97a2f_row24_col3 {\n",
       "  background-color: #ddf5e3;\n",
       "  color: #000000;\n",
       "}\n",
       "#T_97a2f_row25_col3 {\n",
       "  background-color: #edfaf0;\n",
       "  color: #000000;\n",
       "}\n",
       "#T_97a2f_row27_col3 {\n",
       "  background-color: #fcfefd;\n",
       "  color: #000000;\n",
       "}\n",
       "</style>\n",
       "<table id=\"T_97a2f\">\n",
       "  <caption>Explanation of price</caption>\n",
       "  <thead>\n",
       "    <tr>\n",
       "      <th class=\"blank level0\" >&nbsp;</th>\n",
       "      <th id=\"T_97a2f_level0_col0\" class=\"col_heading level0 col0\" >Feature</th>\n",
       "      <th id=\"T_97a2f_level0_col1\" class=\"col_heading level0 col1\" >Value</th>\n",
       "      <th id=\"T_97a2f_level0_col2\" class=\"col_heading level0 col2\" >Mean Background Value</th>\n",
       "      <th id=\"T_97a2f_level0_col3\" class=\"col_heading level0 col3\" >SHAP Value</th>\n",
       "      <th id=\"T_97a2f_level0_col4\" class=\"col_heading level0 col4\" >Confidence</th>\n",
       "    </tr>\n",
       "  </thead>\n",
       "  <tbody>\n",
       "    <tr>\n",
       "      <th id=\"T_97a2f_level0_row0\" class=\"row_heading level0 row0\" >0</th>\n",
       "      <td id=\"T_97a2f_row0_col0\" class=\"data row0 col0\" >Background</td>\n",
       "      <td id=\"T_97a2f_row0_col1\" class=\"data row0 col1\" >nan</td>\n",
       "      <td id=\"T_97a2f_row0_col2\" class=\"data row0 col2\" >nan</td>\n",
       "      <td id=\"T_97a2f_row0_col3\" class=\"data row0 col3\" >0.108714</td>\n",
       "      <td id=\"T_97a2f_row0_col4\" class=\"data row0 col4\" >nan</td>\n",
       "    </tr>\n",
       "    <tr>\n",
       "      <th id=\"T_97a2f_level0_row1\" class=\"row_heading level0 row1\" >1</th>\n",
       "      <td id=\"T_97a2f_row1_col0\" class=\"data row1 col0\" >sellable_online</td>\n",
       "      <td id=\"T_97a2f_row1_col1\" class=\"data row1 col1\" >1.000000</td>\n",
       "      <td id=\"T_97a2f_row1_col2\" class=\"data row1 col2\" >1.000000</td>\n",
       "      <td id=\"T_97a2f_row1_col3\" class=\"data row1 col3\" >0.000000</td>\n",
       "      <td id=\"T_97a2f_row1_col4\" class=\"data row1 col4\" >0.000000</td>\n",
       "    </tr>\n",
       "    <tr>\n",
       "      <th id=\"T_97a2f_level0_row2\" class=\"row_heading level0 row2\" >2</th>\n",
       "      <td id=\"T_97a2f_row2_col0\" class=\"data row2 col0\" >other_colors</td>\n",
       "      <td id=\"T_97a2f_row2_col1\" class=\"data row2 col1\" >0.000000</td>\n",
       "      <td id=\"T_97a2f_row2_col2\" class=\"data row2 col2\" >0.380000</td>\n",
       "      <td id=\"T_97a2f_row2_col3\" class=\"data row2 col3\" >-0.005711</td>\n",
       "      <td id=\"T_97a2f_row2_col4\" class=\"data row2 col4\" >0.001067</td>\n",
       "    </tr>\n",
       "    <tr>\n",
       "      <th id=\"T_97a2f_level0_row3\" class=\"row_heading level0 row3\" >3</th>\n",
       "      <td id=\"T_97a2f_row3_col0\" class=\"data row3 col0\" >depth</td>\n",
       "      <td id=\"T_97a2f_row3_col1\" class=\"data row3 col1\" >0.144531</td>\n",
       "      <td id=\"T_97a2f_row3_col2\" class=\"data row3 col2\" >0.219692</td>\n",
       "      <td id=\"T_97a2f_row3_col3\" class=\"data row3 col3\" >-0.007021</td>\n",
       "      <td id=\"T_97a2f_row3_col4\" class=\"data row3 col4\" >0.001063</td>\n",
       "    </tr>\n",
       "    <tr>\n",
       "      <th id=\"T_97a2f_level0_row4\" class=\"row_heading level0 row4\" >4</th>\n",
       "      <td id=\"T_97a2f_row4_col0\" class=\"data row4 col0\" >height</td>\n",
       "      <td id=\"T_97a2f_row4_col1\" class=\"data row4 col1\" >0.012876</td>\n",
       "      <td id=\"T_97a2f_row4_col2\" class=\"data row4 col2\" >0.143379</td>\n",
       "      <td id=\"T_97a2f_row4_col3\" class=\"data row4 col3\" >-0.024612</td>\n",
       "      <td id=\"T_97a2f_row4_col4\" class=\"data row4 col4\" >0.001075</td>\n",
       "    </tr>\n",
       "    <tr>\n",
       "      <th id=\"T_97a2f_level0_row5\" class=\"row_heading level0 row5\" >5</th>\n",
       "      <td id=\"T_97a2f_row5_col0\" class=\"data row5 col0\" >width</td>\n",
       "      <td id=\"T_97a2f_row5_col1\" class=\"data row5 col1\" >0.251940</td>\n",
       "      <td id=\"T_97a2f_row5_col2\" class=\"data row5 col2\" >0.255130</td>\n",
       "      <td id=\"T_97a2f_row5_col3\" class=\"data row5 col3\" >0.002279</td>\n",
       "      <td id=\"T_97a2f_row5_col4\" class=\"data row5 col4\" >0.001107</td>\n",
       "    </tr>\n",
       "    <tr>\n",
       "      <th id=\"T_97a2f_level0_row6\" class=\"row_heading level0 row6\" >6</th>\n",
       "      <td id=\"T_97a2f_row6_col0\" class=\"data row6 col0\" >discounted</td>\n",
       "      <td id=\"T_97a2f_row6_col1\" class=\"data row6 col1\" >1.000000</td>\n",
       "      <td id=\"T_97a2f_row6_col2\" class=\"data row6 col2\" >0.190000</td>\n",
       "      <td id=\"T_97a2f_row6_col3\" class=\"data row6 col3\" >-0.037789</td>\n",
       "      <td id=\"T_97a2f_row6_col4\" class=\"data row6 col4\" >0.001095</td>\n",
       "    </tr>\n",
       "    <tr>\n",
       "      <th id=\"T_97a2f_level0_row7\" class=\"row_heading level0 row7\" >7</th>\n",
       "      <td id=\"T_97a2f_row7_col0\" class=\"data row7 col0\" >width_d</td>\n",
       "      <td id=\"T_97a2f_row7_col1\" class=\"data row7 col1\" >0.000000</td>\n",
       "      <td id=\"T_97a2f_row7_col2\" class=\"data row7 col2\" >0.790000</td>\n",
       "      <td id=\"T_97a2f_row7_col3\" class=\"data row7 col3\" >-0.028589</td>\n",
       "      <td id=\"T_97a2f_row7_col4\" class=\"data row7 col4\" >0.001071</td>\n",
       "    </tr>\n",
       "    <tr>\n",
       "      <th id=\"T_97a2f_level0_row8\" class=\"row_heading level0 row8\" >8</th>\n",
       "      <td id=\"T_97a2f_row8_col0\" class=\"data row8 col0\" >height_d</td>\n",
       "      <td id=\"T_97a2f_row8_col1\" class=\"data row8 col1\" >1.000000</td>\n",
       "      <td id=\"T_97a2f_row8_col2\" class=\"data row8 col2\" >0.710000</td>\n",
       "      <td id=\"T_97a2f_row8_col3\" class=\"data row8 col3\" >0.000000</td>\n",
       "      <td id=\"T_97a2f_row8_col4\" class=\"data row8 col4\" >0.000000</td>\n",
       "    </tr>\n",
       "    <tr>\n",
       "      <th id=\"T_97a2f_level0_row9\" class=\"row_heading level0 row9\" >9</th>\n",
       "      <td id=\"T_97a2f_row9_col0\" class=\"data row9 col0\" >depth_d</td>\n",
       "      <td id=\"T_97a2f_row9_col1\" class=\"data row9 col1\" >1.000000</td>\n",
       "      <td id=\"T_97a2f_row9_col2\" class=\"data row9 col2\" >0.550000</td>\n",
       "      <td id=\"T_97a2f_row9_col3\" class=\"data row9 col3\" >-0.002024</td>\n",
       "      <td id=\"T_97a2f_row9_col4\" class=\"data row9 col4\" >0.001070</td>\n",
       "    </tr>\n",
       "    <tr>\n",
       "      <th id=\"T_97a2f_level0_row10\" class=\"row_heading level0 row10\" >10</th>\n",
       "      <td id=\"T_97a2f_row10_col0\" class=\"data row10 col0\" >discount_amount</td>\n",
       "      <td id=\"T_97a2f_row10_col1\" class=\"data row10 col1\" >0.009765</td>\n",
       "      <td id=\"T_97a2f_row10_col2\" class=\"data row10 col2\" >0.023529</td>\n",
       "      <td id=\"T_97a2f_row10_col3\" class=\"data row10 col3\" >-0.004847</td>\n",
       "      <td id=\"T_97a2f_row10_col4\" class=\"data row10 col4\" >0.001089</td>\n",
       "    </tr>\n",
       "    <tr>\n",
       "      <th id=\"T_97a2f_level0_row11\" class=\"row_heading level0 row11\" >11</th>\n",
       "      <td id=\"T_97a2f_row11_col0\" class=\"data row11 col0\" >size</td>\n",
       "      <td id=\"T_97a2f_row11_col1\" class=\"data row11 col1\" >0.000028</td>\n",
       "      <td id=\"T_97a2f_row11_col2\" class=\"data row11 col2\" >0.032680</td>\n",
       "      <td id=\"T_97a2f_row11_col3\" class=\"data row11 col3\" >-0.013081</td>\n",
       "      <td id=\"T_97a2f_row11_col4\" class=\"data row11 col4\" >0.001091</td>\n",
       "    </tr>\n",
       "    <tr>\n",
       "      <th id=\"T_97a2f_level0_row12\" class=\"row_heading level0 row12\" >12</th>\n",
       "      <td id=\"T_97a2f_row12_col0\" class=\"data row12 col0\" >category_Bar furniture</td>\n",
       "      <td id=\"T_97a2f_row12_col1\" class=\"data row12 col1\" >0.000000</td>\n",
       "      <td id=\"T_97a2f_row12_col2\" class=\"data row12 col2\" >0.000000</td>\n",
       "      <td id=\"T_97a2f_row12_col3\" class=\"data row12 col3\" >0.000000</td>\n",
       "      <td id=\"T_97a2f_row12_col4\" class=\"data row12 col4\" >0.000000</td>\n",
       "    </tr>\n",
       "    <tr>\n",
       "      <th id=\"T_97a2f_level0_row13\" class=\"row_heading level0 row13\" >13</th>\n",
       "      <td id=\"T_97a2f_row13_col0\" class=\"data row13 col0\" >category_Beds</td>\n",
       "      <td id=\"T_97a2f_row13_col1\" class=\"data row13 col1\" >0.000000</td>\n",
       "      <td id=\"T_97a2f_row13_col2\" class=\"data row13 col2\" >0.060000</td>\n",
       "      <td id=\"T_97a2f_row13_col3\" class=\"data row13 col3\" >0.002753</td>\n",
       "      <td id=\"T_97a2f_row13_col4\" class=\"data row13 col4\" >0.001065</td>\n",
       "    </tr>\n",
       "    <tr>\n",
       "      <th id=\"T_97a2f_level0_row14\" class=\"row_heading level0 row14\" >14</th>\n",
       "      <td id=\"T_97a2f_row14_col0\" class=\"data row14 col0\" >category_Bookcases & shelving units</td>\n",
       "      <td id=\"T_97a2f_row14_col1\" class=\"data row14 col1\" >1.000000</td>\n",
       "      <td id=\"T_97a2f_row14_col2\" class=\"data row14 col2\" >0.110000</td>\n",
       "      <td id=\"T_97a2f_row14_col3\" class=\"data row14 col3\" >-0.098249</td>\n",
       "      <td id=\"T_97a2f_row14_col4\" class=\"data row14 col4\" >0.001075</td>\n",
       "    </tr>\n",
       "    <tr>\n",
       "      <th id=\"T_97a2f_level0_row15\" class=\"row_heading level0 row15\" >15</th>\n",
       "      <td id=\"T_97a2f_row15_col0\" class=\"data row15 col0\" >category_Cabinets & cupboards</td>\n",
       "      <td id=\"T_97a2f_row15_col1\" class=\"data row15 col1\" >0.000000</td>\n",
       "      <td id=\"T_97a2f_row15_col2\" class=\"data row15 col2\" >0.090000</td>\n",
       "      <td id=\"T_97a2f_row15_col3\" class=\"data row15 col3\" >0.008733</td>\n",
       "      <td id=\"T_97a2f_row15_col4\" class=\"data row15 col4\" >0.001094</td>\n",
       "    </tr>\n",
       "    <tr>\n",
       "      <th id=\"T_97a2f_level0_row16\" class=\"row_heading level0 row16\" >16</th>\n",
       "      <td id=\"T_97a2f_row16_col0\" class=\"data row16 col0\" >category_Café furniture</td>\n",
       "      <td id=\"T_97a2f_row16_col1\" class=\"data row16 col1\" >0.000000</td>\n",
       "      <td id=\"T_97a2f_row16_col2\" class=\"data row16 col2\" >0.000000</td>\n",
       "      <td id=\"T_97a2f_row16_col3\" class=\"data row16 col3\" >0.000000</td>\n",
       "      <td id=\"T_97a2f_row16_col4\" class=\"data row16 col4\" >0.000000</td>\n",
       "    </tr>\n",
       "    <tr>\n",
       "      <th id=\"T_97a2f_level0_row17\" class=\"row_heading level0 row17\" >17</th>\n",
       "      <td id=\"T_97a2f_row17_col0\" class=\"data row17 col0\" >category_Chairs</td>\n",
       "      <td id=\"T_97a2f_row17_col1\" class=\"data row17 col1\" >0.000000</td>\n",
       "      <td id=\"T_97a2f_row17_col2\" class=\"data row17 col2\" >0.220000</td>\n",
       "      <td id=\"T_97a2f_row17_col3\" class=\"data row17 col3\" >0.005312</td>\n",
       "      <td id=\"T_97a2f_row17_col4\" class=\"data row17 col4\" >0.001096</td>\n",
       "    </tr>\n",
       "    <tr>\n",
       "      <th id=\"T_97a2f_level0_row18\" class=\"row_heading level0 row18\" >18</th>\n",
       "      <td id=\"T_97a2f_row18_col0\" class=\"data row18 col0\" >category_Chests of drawers & drawer units</td>\n",
       "      <td id=\"T_97a2f_row18_col1\" class=\"data row18 col1\" >0.000000</td>\n",
       "      <td id=\"T_97a2f_row18_col2\" class=\"data row18 col2\" >0.020000</td>\n",
       "      <td id=\"T_97a2f_row18_col3\" class=\"data row18 col3\" >0.000000</td>\n",
       "      <td id=\"T_97a2f_row18_col4\" class=\"data row18 col4\" >0.000000</td>\n",
       "    </tr>\n",
       "    <tr>\n",
       "      <th id=\"T_97a2f_level0_row19\" class=\"row_heading level0 row19\" >19</th>\n",
       "      <td id=\"T_97a2f_row19_col0\" class=\"data row19 col0\" >category_Children's furniture</td>\n",
       "      <td id=\"T_97a2f_row19_col1\" class=\"data row19 col1\" >0.000000</td>\n",
       "      <td id=\"T_97a2f_row19_col2\" class=\"data row19 col2\" >0.040000</td>\n",
       "      <td id=\"T_97a2f_row19_col3\" class=\"data row19 col3\" >0.002762</td>\n",
       "      <td id=\"T_97a2f_row19_col4\" class=\"data row19 col4\" >0.001067</td>\n",
       "    </tr>\n",
       "    <tr>\n",
       "      <th id=\"T_97a2f_level0_row20\" class=\"row_heading level0 row20\" >20</th>\n",
       "      <td id=\"T_97a2f_row20_col0\" class=\"data row20 col0\" >category_Nursery furniture</td>\n",
       "      <td id=\"T_97a2f_row20_col1\" class=\"data row20 col1\" >0.000000</td>\n",
       "      <td id=\"T_97a2f_row20_col2\" class=\"data row20 col2\" >0.010000</td>\n",
       "      <td id=\"T_97a2f_row20_col3\" class=\"data row20 col3\" >0.000000</td>\n",
       "      <td id=\"T_97a2f_row20_col4\" class=\"data row20 col4\" >0.000000</td>\n",
       "    </tr>\n",
       "    <tr>\n",
       "      <th id=\"T_97a2f_level0_row21\" class=\"row_heading level0 row21\" >21</th>\n",
       "      <td id=\"T_97a2f_row21_col0\" class=\"data row21 col0\" >category_Outdoor furniture</td>\n",
       "      <td id=\"T_97a2f_row21_col1\" class=\"data row21 col1\" >0.000000</td>\n",
       "      <td id=\"T_97a2f_row21_col2\" class=\"data row21 col2\" >0.040000</td>\n",
       "      <td id=\"T_97a2f_row21_col3\" class=\"data row21 col3\" >0.003042</td>\n",
       "      <td id=\"T_97a2f_row21_col4\" class=\"data row21 col4\" >0.001096</td>\n",
       "    </tr>\n",
       "    <tr>\n",
       "      <th id=\"T_97a2f_level0_row22\" class=\"row_heading level0 row22\" >22</th>\n",
       "      <td id=\"T_97a2f_row22_col0\" class=\"data row22 col0\" >category_Room dividers</td>\n",
       "      <td id=\"T_97a2f_row22_col1\" class=\"data row22 col1\" >0.000000</td>\n",
       "      <td id=\"T_97a2f_row22_col2\" class=\"data row22 col2\" >0.000000</td>\n",
       "      <td id=\"T_97a2f_row22_col3\" class=\"data row22 col3\" >0.000000</td>\n",
       "      <td id=\"T_97a2f_row22_col4\" class=\"data row22 col4\" >0.000000</td>\n",
       "    </tr>\n",
       "    <tr>\n",
       "      <th id=\"T_97a2f_level0_row23\" class=\"row_heading level0 row23\" >23</th>\n",
       "      <td id=\"T_97a2f_row23_col0\" class=\"data row23 col0\" >category_Sideboards, buffets & console tables</td>\n",
       "      <td id=\"T_97a2f_row23_col1\" class=\"data row23 col1\" >0.000000</td>\n",
       "      <td id=\"T_97a2f_row23_col2\" class=\"data row23 col2\" >0.000000</td>\n",
       "      <td id=\"T_97a2f_row23_col3\" class=\"data row23 col3\" >0.000000</td>\n",
       "      <td id=\"T_97a2f_row23_col4\" class=\"data row23 col4\" >0.000000</td>\n",
       "    </tr>\n",
       "    <tr>\n",
       "      <th id=\"T_97a2f_level0_row24\" class=\"row_heading level0 row24\" >24</th>\n",
       "      <td id=\"T_97a2f_row24_col0\" class=\"data row24 col0\" >category_Sofas & armchairs</td>\n",
       "      <td id=\"T_97a2f_row24_col1\" class=\"data row24 col1\" >0.000000</td>\n",
       "      <td id=\"T_97a2f_row24_col2\" class=\"data row24 col2\" >0.100000</td>\n",
       "      <td id=\"T_97a2f_row24_col3\" class=\"data row24 col3\" >0.013947</td>\n",
       "      <td id=\"T_97a2f_row24_col4\" class=\"data row24 col4\" >0.001099</td>\n",
       "    </tr>\n",
       "    <tr>\n",
       "      <th id=\"T_97a2f_level0_row25\" class=\"row_heading level0 row25\" >25</th>\n",
       "      <td id=\"T_97a2f_row25_col0\" class=\"data row25 col0\" >category_TV & media furniture</td>\n",
       "      <td id=\"T_97a2f_row25_col1\" class=\"data row25 col1\" >0.000000</td>\n",
       "      <td id=\"T_97a2f_row25_col2\" class=\"data row25 col2\" >0.060000</td>\n",
       "      <td id=\"T_97a2f_row25_col3\" class=\"data row25 col3\" >0.007222</td>\n",
       "      <td id=\"T_97a2f_row25_col4\" class=\"data row25 col4\" >0.001075</td>\n",
       "    </tr>\n",
       "    <tr>\n",
       "      <th id=\"T_97a2f_level0_row26\" class=\"row_heading level0 row26\" >26</th>\n",
       "      <td id=\"T_97a2f_row26_col0\" class=\"data row26 col0\" >category_Tables & desks</td>\n",
       "      <td id=\"T_97a2f_row26_col1\" class=\"data row26 col1\" >0.000000</td>\n",
       "      <td id=\"T_97a2f_row26_col2\" class=\"data row26 col2\" >0.140000</td>\n",
       "      <td id=\"T_97a2f_row26_col3\" class=\"data row26 col3\" >0.002339</td>\n",
       "      <td id=\"T_97a2f_row26_col4\" class=\"data row26 col4\" >0.001097</td>\n",
       "    </tr>\n",
       "    <tr>\n",
       "      <th id=\"T_97a2f_level0_row27\" class=\"row_heading level0 row27\" >27</th>\n",
       "      <td id=\"T_97a2f_row27_col0\" class=\"data row27 col0\" >category_Trolleys</td>\n",
       "      <td id=\"T_97a2f_row27_col1\" class=\"data row27 col1\" >0.000000</td>\n",
       "      <td id=\"T_97a2f_row27_col2\" class=\"data row27 col2\" >0.020000</td>\n",
       "      <td id=\"T_97a2f_row27_col3\" class=\"data row27 col3\" >0.001529</td>\n",
       "      <td id=\"T_97a2f_row27_col4\" class=\"data row27 col4\" >0.001089</td>\n",
       "    </tr>\n",
       "    <tr>\n",
       "      <th id=\"T_97a2f_level0_row28\" class=\"row_heading level0 row28\" >28</th>\n",
       "      <td id=\"T_97a2f_row28_col0\" class=\"data row28 col0\" >category_Wardrobes</td>\n",
       "      <td id=\"T_97a2f_row28_col1\" class=\"data row28 col1\" >0.000000</td>\n",
       "      <td id=\"T_97a2f_row28_col2\" class=\"data row28 col2\" >0.090000</td>\n",
       "      <td id=\"T_97a2f_row28_col3\" class=\"data row28 col3\" >0.005361</td>\n",
       "      <td id=\"T_97a2f_row28_col4\" class=\"data row28 col4\" >0.004722</td>\n",
       "    </tr>\n",
       "  </tbody>\n",
       "</table>\n"
      ],
      "text/plain": [
       "<pandas.io.formats.style.Styler at 0x7f1badf0e610>"
      ]
     },
     "execution_count": 14,
     "metadata": {},
     "output_type": "execute_result"
    }
   ],
   "source": [
    "explanations.as_html()[OUTPUT_FEATURE]"
   ]
  },
  {
   "cell_type": "markdown",
   "id": "98c53c38",
   "metadata": {},
   "source": [
    "We can also visualize it as a candlestick plot, seeing how the different input features build up to the output value."
   ]
  },
  {
   "cell_type": "code",
   "execution_count": 15,
   "id": "d732abf7",
   "metadata": {},
   "outputs": [
    {
     "data": {
      "image/png": "[encoded data removed]",
      "text/plain": [
       "<Figure size 1600x900 with 1 Axes>"
      ]
     },
     "metadata": {},
     "output_type": "display_data"
    }
   ],
   "source": [
    "from trustyai.visualizations.shap import SHAPViz\n",
    "SHAPViz()._matplotlib_plot(explanations=explanations, output_name=OUTPUT_FEATURE)"
   ]
  }
 ],
 "metadata": {
  "kernelspec": {
   "display_name": "Python 3.11",
   "language": "python",
   "name": "python3"
  },
  "language_info": {
   "codemirror_mode": {
    "name": "ipython",
    "version": 3
   },
   "file_extension": ".py",
   "mimetype": "text/x-python",
   "name": "python",
   "nbconvert_exporter": "python",
   "pygments_lexer": "ipython3",
   "version": "3.11.7"
  }
 },
 "nbformat": 4,
 "nbformat_minor": 5
}
