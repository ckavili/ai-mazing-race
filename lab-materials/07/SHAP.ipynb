{
 "cells": [
  {
   "cell_type": "markdown",
   "id": "430c9871",
   "metadata": {},
   "source": [
    "# SHAP\n",
    "\n",
    "SHAP (SHapley Additive exPlanations) is a method used to explain the output of machine learning models.  \n",
    "SHAP aims to explain how an input affects the output of the model, by showing the impact of each input feature on the output.  \n",
    "When reading the SHAP values, you will see for each input feature how much it positively or negatively pushed the output to the answer we got, compared to the average base value of the dataset.\n",
    "\n",
    "You can read more here: https://trustyai-explainability.github.io/trustyai-site/main/local-explainers.html"
   ]
  },
  {
   "cell_type": "code",
   "execution_count": 4,
   "id": "09d5e7c3",
   "metadata": {},
   "outputs": [
    {
     "name": "stdout",
     "output_type": "stream",
     "text": [
      "\n",
      "\u001b[1m[\u001b[0m\u001b[34;49mnotice\u001b[0m\u001b[1;39;49m]\u001b[0m\u001b[39;49m A new release of pip is available: \u001b[0m\u001b[31;49m23.2.1\u001b[0m\u001b[39;49m -> \u001b[0m\u001b[32;49m24.3.1\u001b[0m\n",
      "\u001b[1m[\u001b[0m\u001b[34;49mnotice\u001b[0m\u001b[1;39;49m]\u001b[0m\u001b[39;49m To update, run: \u001b[0m\u001b[32;49mpip install --upgrade pip\u001b[0m\n"
     ]
    }
   ],
   "source": [
    "!pip -q install \"tensorflow==2.18.0\""
   ]
  },
  {
   "cell_type": "code",
   "execution_count": 5,
   "id": "fe95ffca-bec7-4d0b-b976-80df5ddc0463",
   "metadata": {
    "tags": []
   },
   "outputs": [
    {
     "name": "stderr",
     "output_type": "stream",
     "text": [
      "2024-12-19 17:53:25.362192: I tensorflow/core/util/port.cc:153] oneDNN custom operations are on. You may see slightly different numerical results due to floating-point round-off errors from different computation orders. To turn them off, set the environment variable `TF_ENABLE_ONEDNN_OPTS=0`.\n",
      "2024-12-19 17:53:25.376122: E external/local_xla/xla/stream_executor/cuda/cuda_fft.cc:477] Unable to register cuFFT factory: Attempting to register factory for plugin cuFFT when one has already been registered\n",
      "WARNING: All log messages before absl::InitializeLog() is called are written to STDERR\n",
      "E0000 00:00:1734630805.390913     104 cuda_dnn.cc:8310] Unable to register cuDNN factory: Attempting to register factory for plugin cuDNN when one has already been registered\n",
      "E0000 00:00:1734630805.395313     104 cuda_blas.cc:1418] Unable to register cuBLAS factory: Attempting to register factory for plugin cuBLAS when one has already been registered\n",
      "2024-12-19 17:53:25.410242: I tensorflow/core/platform/cpu_feature_guard.cc:210] This TensorFlow binary is optimized to use available CPU instructions in performance-critical operations.\n",
      "To enable the following instructions: AVX2 AVX512F AVX512_VNNI FMA, in other operations, rebuild TensorFlow with the appropriate compiler flags.\n"
     ]
    }
   ],
   "source": [
    "import pandas as pd\n",
    "import keras\n",
    "import numpy as np\n",
    "import pickle"
   ]
  },
  {
   "cell_type": "code",
   "execution_count": 10,
   "id": "55daf2fc-6133-4c75-9f69-fa126707f350",
   "metadata": {},
   "outputs": [],
   "source": [
    "OUTPUT_FEATURE = \"price\""
   ]
  },
  {
   "cell_type": "code",
   "execution_count": 6,
   "id": "5dd540f9",
   "metadata": {},
   "outputs": [],
   "source": [
    "import warnings\n",
    "\n",
    "# Ignore UserWarnings\n",
    "warnings.filterwarnings(\"ignore\", category=UserWarning)"
   ]
  },
  {
   "cell_type": "markdown",
   "id": "c129f634",
   "metadata": {},
   "source": [
    "Let's start by loading some artifacts.  \n",
    "We will need:\n",
    "- The ONNX model\n",
    "- Our pre-and-post processing artifacts\n",
    "    - scaler.pkl\n",
    "    - label_encoder.pkl\n",
    "- Some data\n",
    "    - The training inputs, these will be used to get an average input for our dataset\n",
    "    - The test data, these will be used to get a point we want to analyze"
   ]
  },
  {
   "cell_type": "code",
   "execution_count": 63,
   "id": "9fc9845c-f417-4d5d-88c2-0aca52b3da25",
   "metadata": {
    "tags": []
   },
   "outputs": [],
   "source": [
    "keras_model = keras.saving.load_model(\"artifacts/model.keras\")\n",
    "\n",
    "with open('artifacts/feature_scaler.pkl', 'rb') as handle:\n",
    "    feature_scaler = pickle.load(handle)\n",
    "with open('artifacts/label_scaler.pkl', 'rb') as handle:\n",
    "    label_scaler = pickle.load(handle)\n",
    "\n",
    "test_data = pd.read_parquet('artifacts/X_test.parquet')\n",
    "train_data = pd.read_parquet('artifacts/X_train.parquet')"
   ]
  },
  {
   "cell_type": "code",
   "execution_count": 64,
   "id": "7a8688f3-748a-4e6c-a65d-b2ca0f2d7477",
   "metadata": {},
   "outputs": [
    {
     "data": {
      "text/plain": [
       "True"
      ]
     },
     "execution_count": 64,
     "metadata": {},
     "output_type": "execute_result"
    }
   ],
   "source": [
    "train_data[\"price\"].dtype == \"float64\""
   ]
  },
  {
   "cell_type": "code",
   "execution_count": 65,
   "id": "cb55a6be-f889-4a35-9993-8d5111a830e8",
   "metadata": {
    "tags": []
   },
   "outputs": [
    {
     "data": {
      "text/html": [
       "<div>\n",
       "<style scoped>\n",
       "    .dataframe tbody tr th:only-of-type {\n",
       "        vertical-align: middle;\n",
       "    }\n",
       "\n",
       "    .dataframe tbody tr th {\n",
       "        vertical-align: top;\n",
       "    }\n",
       "\n",
       "    .dataframe thead th {\n",
       "        text-align: right;\n",
       "    }\n",
       "</style>\n",
       "<table border=\"1\" class=\"dataframe\">\n",
       "  <thead>\n",
       "    <tr style=\"text-align: right;\">\n",
       "      <th></th>\n",
       "      <th>sellable_online</th>\n",
       "      <th>other_colors</th>\n",
       "      <th>depth</th>\n",
       "      <th>height</th>\n",
       "      <th>width</th>\n",
       "      <th>discounted</th>\n",
       "      <th>width_d</th>\n",
       "      <th>height_d</th>\n",
       "      <th>depth_d</th>\n",
       "      <th>discount_amount</th>\n",
       "      <th>...</th>\n",
       "      <th>category_Children's furniture</th>\n",
       "      <th>category_Nursery furniture</th>\n",
       "      <th>category_Outdoor furniture</th>\n",
       "      <th>category_Room dividers</th>\n",
       "      <th>category_Sideboards, buffets &amp; console tables</th>\n",
       "      <th>category_Sofas &amp; armchairs</th>\n",
       "      <th>category_TV &amp; media furniture</th>\n",
       "      <th>category_Tables &amp; desks</th>\n",
       "      <th>category_Trolleys</th>\n",
       "      <th>category_Wardrobes</th>\n",
       "    </tr>\n",
       "  </thead>\n",
       "  <tbody>\n",
       "    <tr>\n",
       "      <th>532</th>\n",
       "      <td>1</td>\n",
       "      <td>0</td>\n",
       "      <td>0.144531</td>\n",
       "      <td>0.012876</td>\n",
       "      <td>0.25194</td>\n",
       "      <td>1</td>\n",
       "      <td>0</td>\n",
       "      <td>1</td>\n",
       "      <td>1</td>\n",
       "      <td>0.009765</td>\n",
       "      <td>...</td>\n",
       "      <td>0</td>\n",
       "      <td>0</td>\n",
       "      <td>0</td>\n",
       "      <td>0</td>\n",
       "      <td>0</td>\n",
       "      <td>0</td>\n",
       "      <td>0</td>\n",
       "      <td>0</td>\n",
       "      <td>0</td>\n",
       "      <td>0</td>\n",
       "    </tr>\n",
       "  </tbody>\n",
       "</table>\n",
       "<p>1 rows × 28 columns</p>\n",
       "</div>"
      ],
      "text/plain": [
       "     sellable_online  other_colors     depth    height    width  discounted  \\\n",
       "532                1             0  0.144531  0.012876  0.25194           1   \n",
       "\n",
       "     width_d  height_d  depth_d  discount_amount  ...  \\\n",
       "532        0         1        1         0.009765  ...   \n",
       "\n",
       "     category_Children's furniture  category_Nursery furniture  \\\n",
       "532                              0                           0   \n",
       "\n",
       "     category_Outdoor furniture  category_Room dividers  \\\n",
       "532                           0                       0   \n",
       "\n",
       "     category_Sideboards, buffets & console tables  \\\n",
       "532                                              0   \n",
       "\n",
       "     category_Sofas & armchairs  category_TV & media furniture  \\\n",
       "532                           0                              0   \n",
       "\n",
       "     category_Tables & desks  category_Trolleys  category_Wardrobes  \n",
       "532                        0                  0                   0  \n",
       "\n",
       "[1 rows x 28 columns]"
      ]
     },
     "execution_count": 65,
     "metadata": {},
     "output_type": "execute_result"
    }
   ],
   "source": [
    "strange_prediction = test_data.loc[[532]].drop(OUTPUT_FEATURE, axis=1)\n",
    "strange_prediction"
   ]
  },
  {
   "cell_type": "markdown",
   "id": "22e29b8f",
   "metadata": {},
   "source": [
    "TrustyAI SHAP explainer requires our model to have a pandas dataframe as an input, and numpy or pandas output, so we wrap our model in a pred() function that makes sure the input and output are converted properly. "
   ]
  },
  {
   "cell_type": "code",
   "execution_count": 86,
   "id": "0df053e9-bf56-4b03-9e9c-f7876cb19269",
   "metadata": {},
   "outputs": [],
   "source": [
    "def pred(x):\n",
    "    return pd.DataFrame([1], columns=[OUTPUT_FEATURE])\n",
    "    print(x)\n",
    "    prediction = keras_model.predict(x)\n",
    "    return pd.DataFrame(prediction, columns=[OUTPUT_FEATURE])"
   ]
  },
  {
   "cell_type": "code",
   "execution_count": 87,
   "id": "7f587512-38e8-4e80-b78d-f6296d573924",
   "metadata": {
    "tags": []
   },
   "outputs": [],
   "source": [
    "from trustyai.model import Model\n",
    "trustyai_model = Model(pred, output_names=[OUTPUT_FEATURE])"
   ]
  },
  {
   "cell_type": "code",
   "execution_count": 88,
   "id": "acc63b48-8d61-4028-bdbd-219217e4f5fc",
   "metadata": {
    "tags": []
   },
   "outputs": [
    {
     "data": {
      "text/html": [
       "<div>\n",
       "<style scoped>\n",
       "    .dataframe tbody tr th:only-of-type {\n",
       "        vertical-align: middle;\n",
       "    }\n",
       "\n",
       "    .dataframe tbody tr th {\n",
       "        vertical-align: top;\n",
       "    }\n",
       "\n",
       "    .dataframe thead th {\n",
       "        text-align: right;\n",
       "    }\n",
       "</style>\n",
       "<table border=\"1\" class=\"dataframe\">\n",
       "  <thead>\n",
       "    <tr style=\"text-align: right;\">\n",
       "      <th></th>\n",
       "      <th>price</th>\n",
       "    </tr>\n",
       "  </thead>\n",
       "  <tbody>\n",
       "    <tr>\n",
       "      <th>0</th>\n",
       "      <td>1</td>\n",
       "    </tr>\n",
       "  </tbody>\n",
       "</table>\n",
       "</div>"
      ],
      "text/plain": [
       "   price\n",
       "0      1"
      ]
     },
     "execution_count": 88,
     "metadata": {},
     "output_type": "execute_result"
    }
   ],
   "source": [
    "prediction = trustyai_model(strange_prediction)\n",
    "prediction"
   ]
  },
  {
   "cell_type": "code",
   "execution_count": 95,
   "id": "33be2325-1190-4ef8-93d5-3584eee342c1",
   "metadata": {},
   "outputs": [],
   "source": [
    "# for key in train_data.columns:\n",
    "#     if \"category\" in key or \"sellable_online\" in key or \"other_colors\" in key:\n",
    "#         test_data[[key]] = test_data[[key]].astype(\"bool\")\n",
    "#         train_data[[key]] = train_data[[key]].astype(\"bool\")\n",
    "#         strange_prediction[[key]] = strange_prediction[[key]].astype(\"bool\")\n",
    "#     elif train_data[key].dtype == \"float64\":\n",
    "#         test_data[[key]] = test_data[[key]].astype(\"float32\")\n",
    "#         train_data[[key]] = train_data[[key]].astype(\"float32\")\n",
    "#         try:\n",
    "#             strange_prediction[[key]] = strange_prediction[[key]].astype(\"float32\")\n",
    "#         except:\n",
    "#             pass\n",
    "for key in train_data.columns:\n",
    "    test_data[[key]] = test_data[[key]].astype(\"float32\")\n",
    "    train_data[[key]] = train_data[[key]].astype(\"float32\")\n",
    "    try:\n",
    "        strange_prediction[[key]] = strange_prediction[[key]].astype(\"float32\")\n",
    "    except:\n",
    "        pass"
   ]
  },
  {
   "cell_type": "markdown",
   "id": "827d92ab",
   "metadata": {},
   "source": [
    "We arbitrarily choose the first data point (song) in our test data to be the data we want to test.  \n",
    "In practice, you might choose the data point that you predict the worst on, or a data point that gave an unexpected answer.  \n",
    "We also look at how our data point looks when normalized (after going through pre-processing). This is how it will look like going into the model"
   ]
  },
  {
   "cell_type": "markdown",
   "id": "0e713b40",
   "metadata": {},
   "source": [
    "Let's try to use our TrustyAI Model to predict the output of our data point we want to explain with SHAP."
   ]
  },
  {
   "cell_type": "markdown",
   "id": "bc38c14c",
   "metadata": {},
   "source": [
    "And with everything set up, we can create a SHAP explainer and let it analyze our data point!  \n",
    "You can also note that we add 100 data points from our training dataset to the SHAPExplainer, this is used to calculate the average base values of our dataset. With this, we can see how much our interesting datapoint contributes to the prediction compared to what a \"standard\" value would."
   ]
  },
  {
   "cell_type": "code",
   "execution_count": 96,
   "id": "fcfdeb77-307b-4e3c-9c2c-1caf421804c4",
   "metadata": {},
   "outputs": [
    {
     "data": {
      "text/plain": [
       "price                                            float32\n",
       "sellable_online                                  float32\n",
       "other_colors                                     float32\n",
       "depth                                            float32\n",
       "height                                           float32\n",
       "width                                            float32\n",
       "discounted                                       float32\n",
       "width_d                                          float32\n",
       "height_d                                         float32\n",
       "depth_d                                          float32\n",
       "discount_amount                                  float32\n",
       "size                                             float32\n",
       "category_Bar furniture                           float32\n",
       "category_Beds                                    float32\n",
       "category_Bookcases & shelving units              float32\n",
       "category_Cabinets & cupboards                    float32\n",
       "category_Café furniture                          float32\n",
       "category_Chairs                                  float32\n",
       "category_Chests of drawers & drawer units        float32\n",
       "category_Children's furniture                    float32\n",
       "category_Nursery furniture                       float32\n",
       "category_Outdoor furniture                       float32\n",
       "category_Room dividers                           float32\n",
       "category_Sideboards, buffets & console tables    float32\n",
       "category_Sofas & armchairs                       float32\n",
       "category_TV & media furniture                    float32\n",
       "category_Tables & desks                          float32\n",
       "category_Trolleys                                float32\n",
       "category_Wardrobes                               float32\n",
       "dtype: object"
      ]
     },
     "execution_count": 96,
     "metadata": {},
     "output_type": "execute_result"
    }
   ],
   "source": [
    "train_data.dtypes"
   ]
  },
  {
   "cell_type": "code",
   "execution_count": 108,
   "id": "165978b5-2c24-4043-8757-f8944e815695",
   "metadata": {
    "tags": []
   },
   "outputs": [],
   "source": [
    "from trustyai.explainers import SHAPExplainer\n",
    "explainer = SHAPExplainer(background=train_data[:100].drop(OUTPUT_FEATURE, axis=1))"
   ]
  },
  {
   "cell_type": "code",
   "execution_count": 109,
   "id": "a8996696-e26e-4eca-a907-6e62c033f9d3",
   "metadata": {
    "tags": []
   },
   "outputs": [
    {
     "ename": "java.util.concurrent.ExecutionException",
     "evalue": "java.util.concurrent.ExecutionException: java.lang.IllegalArgumentException: # Rows of matrix A (1) must be an exact product of batch size 100",
     "output_type": "error",
     "traceback": [
      "\u001b[0;31m---------------------------------------------------------------------------\u001b[0m",
      "\u001b[0;31mjava.lang.IllegalArgumentException\u001b[0m        Traceback (most recent call last)",
      "File \u001b[0;32mThread.java:840\u001b[0m, in \u001b[0;36mjava.lang.Thread.run\u001b[0;34m()\u001b[0m\n",
      "\u001b[0;31mjava.lang.IllegalArgumentException\u001b[0m: java.lang.IllegalArgumentException: # Rows of matrix A (1) must be an exact product of batch size 100",
      "\nThe above exception was the direct cause of the following exception:\n",
      "\u001b[0;31mException\u001b[0m                                 Traceback (most recent call last)",
      "File \u001b[0;32mCompletableFuture.java:2073\u001b[0m, in \u001b[0;36mjava.util.concurrent.CompletableFuture.get\u001b[0;34m()\u001b[0m\n",
      "\u001b[0;31mException\u001b[0m: Java Exception",
      "\nThe above exception was the direct cause of the following exception:\n",
      "\u001b[0;31mjava.util.concurrent.ExecutionException\u001b[0m   Traceback (most recent call last)",
      "Cell \u001b[0;32mIn[109], line 1\u001b[0m\n\u001b[0;32m----> 1\u001b[0m explanations \u001b[38;5;241m=\u001b[39m \u001b[43mexplainer\u001b[49m\u001b[38;5;241;43m.\u001b[39;49m\u001b[43mexplain\u001b[49m\u001b[43m(\u001b[49m\u001b[43minputs\u001b[49m\u001b[38;5;241;43m=\u001b[39;49m\u001b[43mstrange_prediction\u001b[49m\u001b[43m,\u001b[49m\n\u001b[1;32m      2\u001b[0m \u001b[43m                                 \u001b[49m\u001b[43moutputs\u001b[49m\u001b[38;5;241;43m=\u001b[39;49m\u001b[43mprediction\u001b[49m\u001b[43m,\u001b[49m\n\u001b[1;32m      3\u001b[0m \u001b[43m                                 \u001b[49m\u001b[43mmodel\u001b[49m\u001b[38;5;241;43m=\u001b[39;49m\u001b[43mtrustyai_model\u001b[49m\u001b[43m)\u001b[49m\n",
      "File \u001b[0;32m/opt/app-root/lib64/python3.11/site-packages/trustyai/explainers/shap.py:460\u001b[0m, in \u001b[0;36mSHAPExplainer.explain\u001b[0;34m(self, inputs, outputs, model)\u001b[0m\n\u001b[1;32m    457\u001b[0m explainer \u001b[38;5;241m=\u001b[39m _ShapKernelExplainer(config)\n\u001b[1;32m    458\u001b[0m \u001b[38;5;28;01mwith\u001b[39;00m Model\u001b[38;5;241m.\u001b[39mArrowTransmission(model, inputs):\n\u001b[1;32m    459\u001b[0m     \u001b[38;5;28;01mreturn\u001b[39;00m SHAPResults(\n\u001b[0;32m--> 460\u001b[0m         \u001b[43mexplainer\u001b[49m\u001b[38;5;241;43m.\u001b[39;49m\u001b[43mexplainAsync\u001b[49m\u001b[43m(\u001b[49m\u001b[43m_prediction\u001b[49m\u001b[43m,\u001b[49m\u001b[43m \u001b[49m\u001b[43mmodel\u001b[49m\u001b[43m)\u001b[49m\u001b[38;5;241;43m.\u001b[39;49m\u001b[43mget\u001b[49m\u001b[43m(\u001b[49m\u001b[43m)\u001b[49m, _background\n\u001b[1;32m    461\u001b[0m     )\n",
      "\u001b[0;31mjava.util.concurrent.ExecutionException\u001b[0m: java.util.concurrent.ExecutionException: java.lang.IllegalArgumentException: # Rows of matrix A (1) must be an exact product of batch size 100"
     ]
    }
   ],
   "source": [
    "explanations = explainer.explain(inputs=strange_prediction,\n",
    "                                 outputs=prediction,\n",
    "                                 model=trustyai_model)"
   ]
  },
  {
   "cell_type": "markdown",
   "id": "6de2e45e",
   "metadata": {},
   "source": [
    "With our SHAP Explainer ready we can start looking at the results.\n",
    "\n",
    "Let's choose a specific output country which we want to know how it got affected by the input values.  \n",
    "CH is the country that we are supposed to get as the popular country for this input, so it's especially interesting to see the input's effect on that output.  \n",
    "That being said, feel free to try with a few other countries and see what happens.  "
   ]
  },
  {
   "cell_type": "markdown",
   "id": "ee30d71c",
   "metadata": {},
   "source": [
    "First, we will get a table of values.  \n",
    "Here we can see the **Mean Background Value** - this is the average base value we were talking about before.  \n",
    "We can also see our **Value**, which is the normalized data point that we sent into the explainer. Red values are lower than the average value and green values are higher.  \n",
    "Finally, we have the **SHAP Value**. These indicate how much that input feature had an effect on the output. Red indicates a negative contribution to the prediction while green a positive contribution. The larger the value, the larger the contribution."
   ]
  },
  {
   "cell_type": "code",
   "execution_count": 91,
   "id": "946e764b-4412-4c47-9516-b38eae9c0b99",
   "metadata": {},
   "outputs": [
    {
     "data": {
      "text/html": [
       "<style type=\"text/css\">\n",
       "#T_c5d82_row1_col1 {\n",
       "  background-color: #ee0000;\n",
       "}\n",
       "#T_c5d82_row1_col3 {\n",
       "  background-color: #13ba3c;\n",
       "  color: #f1f1f1;\n",
       "}\n",
       "</style>\n",
       "<table id=\"T_c5d82\">\n",
       "  <caption>Explanation of price</caption>\n",
       "  <thead>\n",
       "    <tr>\n",
       "      <th class=\"blank level0\" >&nbsp;</th>\n",
       "      <th id=\"T_c5d82_level0_col0\" class=\"col_heading level0 col0\" >Feature</th>\n",
       "      <th id=\"T_c5d82_level0_col1\" class=\"col_heading level0 col1\" >Value</th>\n",
       "      <th id=\"T_c5d82_level0_col2\" class=\"col_heading level0 col2\" >Mean Background Value</th>\n",
       "      <th id=\"T_c5d82_level0_col3\" class=\"col_heading level0 col3\" >SHAP Value</th>\n",
       "      <th id=\"T_c5d82_level0_col4\" class=\"col_heading level0 col4\" >Confidence</th>\n",
       "    </tr>\n",
       "  </thead>\n",
       "  <tbody>\n",
       "    <tr>\n",
       "      <th id=\"T_c5d82_level0_row0\" class=\"row_heading level0 row0\" >0</th>\n",
       "      <td id=\"T_c5d82_row0_col0\" class=\"data row0 col0\" >Background</td>\n",
       "      <td id=\"T_c5d82_row0_col1\" class=\"data row0 col1\" >nan</td>\n",
       "      <td id=\"T_c5d82_row0_col2\" class=\"data row0 col2\" >nan</td>\n",
       "      <td id=\"T_c5d82_row0_col3\" class=\"data row0 col3\" >0.010000</td>\n",
       "      <td id=\"T_c5d82_row0_col4\" class=\"data row0 col4\" >nan</td>\n",
       "    </tr>\n",
       "    <tr>\n",
       "      <th id=\"T_c5d82_level0_row1\" class=\"row_heading level0 row1\" >1</th>\n",
       "      <td id=\"T_c5d82_row1_col0\" class=\"data row1 col0\" >depth</td>\n",
       "      <td id=\"T_c5d82_row1_col1\" class=\"data row1 col1\" >0.144531</td>\n",
       "      <td id=\"T_c5d82_row1_col2\" class=\"data row1 col2\" >0.219692</td>\n",
       "      <td id=\"T_c5d82_row1_col3\" class=\"data row1 col3\" >0.990000</td>\n",
       "      <td id=\"T_c5d82_row1_col4\" class=\"data row1 col4\" >0.000000</td>\n",
       "    </tr>\n",
       "  </tbody>\n",
       "</table>\n"
      ],
      "text/plain": [
       "<pandas.io.formats.style.Styler at 0x7fd11b18bd50>"
      ]
     },
     "execution_count": 91,
     "metadata": {},
     "output_type": "execute_result"
    }
   ],
   "source": [
    "explanations.as_html()[OUTPUT_FEATURE]"
   ]
  },
  {
   "cell_type": "markdown",
   "id": "98c53c38",
   "metadata": {},
   "source": [
    "We can also visualize it as a candlestick plot, seeing how the different input features build up to the output value."
   ]
  },
  {
   "cell_type": "code",
   "execution_count": 92,
   "id": "d732abf7",
   "metadata": {},
   "outputs": [
    {
     "data": {
      "image/png": "[encoded data removed]",
      "text/plain": [
       "<Figure size 1600x900 with 1 Axes>"
      ]
     },
     "metadata": {},
     "output_type": "display_data"
    }
   ],
   "source": [
    "from trustyai.visualizations.shap import SHAPViz\n",
    "SHAPViz()._matplotlib_plot(explanations=explanations, output_name=OUTPUT_FEATURE)"
   ]
  }
 ],
 "metadata": {
  "kernelspec": {
   "display_name": "Python 3.11",
   "language": "python",
   "name": "python3"
  },
  "language_info": {
   "codemirror_mode": {
    "name": "ipython",
    "version": 3
   },
   "file_extension": ".py",
   "mimetype": "text/x-python",
   "name": "python",
   "nbconvert_exporter": "python",
   "pygments_lexer": "ipython3",
   "version": "3.11.7"
  }
 },
 "nbformat": 4,
 "nbformat_minor": 5
}
